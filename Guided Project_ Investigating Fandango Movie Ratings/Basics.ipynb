{
 "cells": [
  {
   "cell_type": "markdown",
   "metadata": {},
   "source": [
    "# Guided Project: Investigating Fandango Movie Ratings"
   ]
  },
  {
   "cell_type": "markdown",
   "metadata": {},
   "source": [
    "## Is Fandango Still Inflating Ratings? "
   ]
  },
  {
   "cell_type": "markdown",
   "metadata": {},
   "source": [
    "For this particular project, the objective was to analyze more recent movie ratings from Fandango to determine whether there has been any change in their rating system after Hickey's discovery. Hickey, a data journalist, had evidence that suggested Fandango's rating system was biased and not completely a good indicator for movie ratings. He found that the ratings were almost always rounded up to the nearest half-star which suggested strong biased. Also, he created a graph that shows that the data is mostly left-skewed, showing that there are more higher ratings than lower ratings. Therefore, I wanted to gain deeper insight into what was going on by doing this project. "
   ]
  },
  {
   "cell_type": "markdown",
   "metadata": {},
   "source": [
    "## Understanding the Data "
   ]
  },
  {
   "cell_type": "markdown",
   "metadata": {},
   "source": [
    "In order to gain information on whether there has been change in the rating system, I decided to compare the system both pre and post analysis. Therefore, I will analyze the data Hickey made public on GitHub and the data one of the Dataquest's team members collected. "
   ]
  },
  {
   "cell_type": "code",
   "execution_count": 1,
   "metadata": {
    "collapsed": false
   },
   "outputs": [
    {
     "data": {
      "text/html": [
       "<div>\n",
       "<style scoped>\n",
       "    .dataframe tbody tr th:only-of-type {\n",
       "        vertical-align: middle;\n",
       "    }\n",
       "\n",
       "    .dataframe tbody tr th {\n",
       "        vertical-align: top;\n",
       "    }\n",
       "\n",
       "    .dataframe thead th {\n",
       "        text-align: right;\n",
       "    }\n",
       "</style>\n",
       "<table border=\"1\" class=\"dataframe\">\n",
       "  <thead>\n",
       "    <tr style=\"text-align: right;\">\n",
       "      <th></th>\n",
       "      <th>movie</th>\n",
       "      <th>year</th>\n",
       "      <th>fandango</th>\n",
       "    </tr>\n",
       "  </thead>\n",
       "  <tbody>\n",
       "    <tr>\n",
       "      <th>0</th>\n",
       "      <td>10 Cloverfield Lane</td>\n",
       "      <td>2016</td>\n",
       "      <td>3.5</td>\n",
       "    </tr>\n",
       "    <tr>\n",
       "      <th>1</th>\n",
       "      <td>13 Hours</td>\n",
       "      <td>2016</td>\n",
       "      <td>4.5</td>\n",
       "    </tr>\n",
       "    <tr>\n",
       "      <th>2</th>\n",
       "      <td>A Cure for Wellness</td>\n",
       "      <td>2016</td>\n",
       "      <td>3.0</td>\n",
       "    </tr>\n",
       "    <tr>\n",
       "      <th>3</th>\n",
       "      <td>A Dog's Purpose</td>\n",
       "      <td>2017</td>\n",
       "      <td>4.5</td>\n",
       "    </tr>\n",
       "    <tr>\n",
       "      <th>4</th>\n",
       "      <td>A Hologram for the King</td>\n",
       "      <td>2016</td>\n",
       "      <td>3.0</td>\n",
       "    </tr>\n",
       "  </tbody>\n",
       "</table>\n",
       "</div>"
      ],
      "text/plain": [
       "                     movie  year  fandango\n",
       "0      10 Cloverfield Lane  2016       3.5\n",
       "1                 13 Hours  2016       4.5\n",
       "2      A Cure for Wellness  2016       3.0\n",
       "3          A Dog's Purpose  2017       4.5\n",
       "4  A Hologram for the King  2016       3.0"
      ]
     },
     "execution_count": 1,
     "metadata": {},
     "output_type": "execute_result"
    }
   ],
   "source": [
    "import pandas as pd \n",
    "import numpy as np \n",
    "import matplotlib.pyplot as plt\n",
    "import seaborn as sns\n",
    "\n",
    "fandango_before = pd.read_csv('fandango_score_comparison.csv', parse_dates = True)\n",
    "fandango_after = pd.read_csv('movie_ratings_16_17.csv', parse_dates = True)\n",
    "fandango_hickey = fandango_before[['FILM', 'Fandango_Stars', 'Fandango_Ratingvalue', 'Fandango_votes', 'Fandango_Difference']].copy()\n",
    "fandango_dataquest = fandango_after[['movie', 'year', 'fandango']].copy()\n",
    "fandango_hickey.head()\n",
    "fandango_dataquest.head()\n"
   ]
  },
  {
   "cell_type": "markdown",
   "metadata": {},
   "source": [
    "## Changing the Goal of our Analysis"
   ]
  },
  {
   "cell_type": "markdown",
   "metadata": {},
   "source": [
    "From analyzing both READ.md files in the respective repositories, it can be seen that the sampling processes were not random and the samples are not representative in what our task is at hand. In order to achieve the task at hand, I will slightly change the goal of the analysis instead of collecting new data which is very time consuming. The change that I will implement will be changing the population of interest and accepting the fact that the samples do in fact represent the population well. This is overall a good proxy for the original goal and will answer the questions we wish to answer. Therefore, the new goal is to find out whether there's any differences between the Fandango's ratings in 2015 and in 2016. This then allows us to have two populations at hand, Fandango ratings for movies in 2015 and Fandango ratings for movies in 2016. Also, we will say 30 fan ratings or more on Fandango is considered \"popular\"."
   ]
  },
  {
   "cell_type": "markdown",
   "metadata": {},
   "source": [
    "## Isolating the Samples We Need"
   ]
  },
  {
   "cell_type": "markdown",
   "metadata": {},
   "source": [
    "After looking at the data, I noticed that there are some mmovies that were not released in 2015 and 2016. Therefore, I will separate the data into two data sets: \n",
    "\n",
    "1) Movies released in 2015 \n",
    "\n",
    "2) Movies released in 2016"
   ]
  },
  {
   "cell_type": "code",
   "execution_count": 2,
   "metadata": {
    "collapsed": false
   },
   "outputs": [
    {
     "data": {
      "text/plain": [
       "2015    129\n",
       "Name: Year, dtype: int64"
      ]
     },
     "execution_count": 2,
     "metadata": {},
     "output_type": "execute_result"
    }
   ],
   "source": [
    "fandango_hickey.sample(10, random_state = 1)\n",
    "fandango_dataquest.sample(10, random_state = 1)\n",
    "sum(fandango_hickey['Fandango_votes'] < 30) \n",
    "fandango_hickey.head(2)\n",
    "fandango_hickey['Year'] = fandango_hickey['FILM'].str[-5:-1]\n",
    "fandango_hickey['Year'].head()\n",
    "fandango_hickey['Year'].value_counts()\n",
    "fandango_2015 = fandango_hickey[fandango_hickey['Year'] == '2015'].copy()\n",
    "fandango_2015['Year'].value_counts()\n"
   ]
  },
  {
   "cell_type": "code",
   "execution_count": 5,
   "metadata": {
    "collapsed": false
   },
   "outputs": [
    {
     "data": {
      "text/plain": [
       "2016    191\n",
       "Name: year, dtype: int64"
      ]
     },
     "execution_count": 5,
     "metadata": {},
     "output_type": "execute_result"
    }
   ],
   "source": [
    "fandango_2016 = fandango_dataquest.copy()\n",
    "fandango_2016['year'].value_counts()\n",
    "fandango_2016 = fandango_2016[fandango_2016['year'] == 2016]\n",
    "fandango_2016['year'].value_counts()\n"
   ]
  },
  {
   "cell_type": "markdown",
   "metadata": {},
   "source": [
    "## Comparing Distribution Shapes for 2015 and 2016"
   ]
  },
  {
   "cell_type": "markdown",
   "metadata": {},
   "source": [
    "After cleaning the data, I now want to start analyzing the two samples that I obtained from the previous step when I isolated the data. "
   ]
  },
  {
   "cell_type": "code",
   "execution_count": 11,
   "metadata": {
    "collapsed": false
   },
   "outputs": [
    {
     "data": {
      "image/png": "[encoded data removed]",
      "text/plain": [
       "<matplotlib.figure.Figure at 0x7fe7c8a5ff28>"
      ]
     },
     "metadata": {},
     "output_type": "display_data"
    }
   ],
   "source": [
    "import numpy as np \n",
    "import matplotlib.pyplot as plt\n",
    "%matplotlib inline\n",
    "plt.style.use('fivethirtyeight')\n",
    "\n",
    "fandango_2015['Fandango_Stars'].plot.kde(label = '2015', legend = True, figsize=(8,5.5))\n",
    "fandango_2016['fandango'].plot.kde(label = '2016', legend = True, figsize=(8,5.5))\n",
    "plt.title('Fandango 2015 vs. Fandango 2016')\n",
    "plt.xticks([0,0.5,1,1.5,2,2.5,3,3.5,4,4.5,5])\n",
    "plt.xlabel('Stars')\n",
    "plt.show()\n"
   ]
  },
  {
   "cell_type": "markdown",
   "metadata": {},
   "source": [
    "The shape of each distribution for 2015 and 2016 is approximately normal. There is an indication that there was an increase in the apex of 2016 for the stars compared to that of 2015. However, ovreall, the movies in 2016 were rated slightly loewr than in 2015. "
   ]
  },
  {
   "cell_type": "markdown",
   "metadata": {},
   "source": [
    "## Comparing Relative Frequencies "
   ]
  },
  {
   "cell_type": "code",
   "execution_count": 17,
   "metadata": {
    "collapsed": false
   },
   "outputs": [
    {
     "name": "stdout",
     "output_type": "stream",
     "text": [
      "2015\n",
      "----------------\n"
     ]
    },
    {
     "data": {
      "text/plain": [
       "3.0     8.527132\n",
       "3.5    17.829457\n",
       "4.0    28.682171\n",
       "4.5    37.984496\n",
       "5.0     6.976744\n",
       "Name: Fandango_Stars, dtype: float64"
      ]
     },
     "execution_count": 17,
     "metadata": {},
     "output_type": "execute_result"
    }
   ],
   "source": [
    "print('2015' + '\\n' + '-' * 16)\n",
    "fandango_2015['Fandango_Stars'].value_counts(normalize = True).sort_index() * 100\n"
   ]
  },
  {
   "cell_type": "code",
   "execution_count": 18,
   "metadata": {
    "collapsed": false
   },
   "outputs": [
    {
     "name": "stdout",
     "output_type": "stream",
     "text": [
      "2016\n",
      "----------------\n"
     ]
    },
    {
     "data": {
      "text/plain": [
       "2.5     3.141361\n",
       "3.0     7.329843\n",
       "3.5    24.083770\n",
       "4.0    40.314136\n",
       "4.5    24.607330\n",
       "5.0     0.523560\n",
       "Name: fandango, dtype: float64"
      ]
     },
     "execution_count": 18,
     "metadata": {},
     "output_type": "execute_result"
    }
   ],
   "source": [
    "print('2016' + '\\n' + '-' * 16)\n",
    "fandango_2016['fandango'].value_counts(normalize = True).sort_index() * 100"
   ]
  },
  {
   "cell_type": "markdown",
   "metadata": {},
   "source": [
    "The samples have different number of movies, and therefore, it does not make sense to compare absolute frequencies. Therefore, we will normalize the counts in order to avoid this and we would be using relative frequencies. The relative frequencies will be represented by percentages instead of proportions. "
   ]
  },
  {
   "cell_type": "markdown",
   "metadata": {},
   "source": [
    "## Determining the Direction of the Change"
   ]
  },
  {
   "cell_type": "markdown",
   "metadata": {},
   "source": [
    "From the two tables, it is clear that there is a difference between the two distributions. However, the direction in which it moves towards to is not as clear compared to that of the kernel density plot plotted earlier. I will conduct a few summary statistics to get a bigger picture of the direction. I will take the mean, median, and mode and compare to that the direction of the difference. "
   ]
  },
  {
   "cell_type": "code",
   "execution_count": 21,
   "metadata": {
    "collapsed": false
   },
   "outputs": [
    {
     "name": "stdout",
     "output_type": "stream",
     "text": [
      "4.0852713178294575\n",
      "4.0\n",
      "4.5\n"
     ]
    }
   ],
   "source": [
    "print(fandango_2015['Fandango_Stars'].mean())\n",
    "print(fandango_2015['Fandango_Stars'].median())\n",
    "print(fandango_2015['Fandango_Stars'].mode()[0])"
   ]
  },
  {
   "cell_type": "code",
   "execution_count": 22,
   "metadata": {
    "collapsed": false
   },
   "outputs": [
    {
     "name": "stdout",
     "output_type": "stream",
     "text": [
      "3.887434554973822\n",
      "4.0\n",
      "4.0\n"
     ]
    }
   ],
   "source": [
    "print(fandango_2016['fandango'].mean())\n",
    "print(fandango_2016['fandango'].median())\n",
    "print(fandango_2016['fandango'].mode()[0])"
   ]
  },
  {
   "cell_type": "code",
   "execution_count": 38,
   "metadata": {
    "collapsed": false
   },
   "outputs": [
    {
     "data": {
      "image/png": "[encoded data removed]",
      "text/plain": [
       "<matplotlib.figure.Figure at 0x7fe7c85521d0>"
      ]
     },
     "metadata": {},
     "output_type": "display_data"
    }
   ],
   "source": [
    "summary = pd.DataFrame()\n",
    "summary['2015'] = [fandango_2015['Fandango_Stars'].mean(), fandango_2015['Fandango_Stars'].median(), fandango_2015['Fandango_Stars'].mode()[0]]\n",
    "summary['2016'] = [fandango_2016['fandango'].mean(), fandango_2016['fandango'].median(), fandango_2016['fandango'].mode()[0]]\n",
    "summary.index = ['mean', 'median', 'mode']\n",
    "summary\n",
    "\n",
    "summary['2015'].plot.bar(color = '#0066FF', label = '2015', align = 'center', figsize=(8,5))\n",
    "summary['2016'].plot.bar(color = '#CC0000', label = '2016', align = 'edge', figsize=(8,5))\n",
    "plt.style.use('fivethirtyeight')\n",
    "plt.title('Comparing 2015 vs. 2016')\n",
    "plt.ylabel('Stars')\n",
    "plt.legend(loc = 'upper center')\n",
    "plt.show()"
   ]
  },
  {
   "cell_type": "code",
   "execution_count": 35,
   "metadata": {
    "collapsed": false
   },
   "outputs": [
    {
     "data": {
      "text/plain": [
       "0.04842683568951993"
      ]
     },
     "execution_count": 35,
     "metadata": {},
     "output_type": "execute_result"
    }
   ],
   "source": [
    "(summary.loc['mean'][0] - summary.loc['mean'][1]) / summary.loc['mean'][0]"
   ]
  },
  {
   "cell_type": "markdown",
   "metadata": {},
   "source": [
    "## Conclusion"
   ]
  },
  {
   "cell_type": "markdown",
   "metadata": {},
   "source": [
    "Overall, there is a slight difference in the Fandango movie ratings in 2015 and 2016. Also, in 2016, movies were rated lower compared to that of 2015. "
   ]
  }
 ],
 "metadata": {
  "kernelspec": {
   "display_name": "Python 3",
   "language": "python",
   "name": "python3"
  },
  "language_info": {
   "codemirror_mode": {
    "name": "ipython",
    "version": 3
   },
   "file_extension": ".py",
   "mimetype": "text/x-python",
   "name": "python",
   "nbconvert_exporter": "python",
   "pygments_lexer": "ipython3",
   "version": "3.4.3"
  }
 },
 "nbformat": 4,
 "nbformat_minor": 2
}
