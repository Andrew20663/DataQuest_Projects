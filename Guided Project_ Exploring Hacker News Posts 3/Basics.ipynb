{
 "cells": [
  {
   "cell_type": "markdown",
   "metadata": {
    "collapsed": true
   },
   "source": [
    "# Guided Project: Exploring Hacker News Posts\n",
    "\n",
    "For this particular project, I worked with the data set of posts from Hacker News. The data set originally consisted of 300,000 rows but was reduced to about 20,000 rows that deleted submissions with no comments and were selected from a random sample. The column names of the dataset are id, title, url, num_points, num_comments, author, and created_at. I was most interested in looking at posts that had titles that began with 'Ask HN' and 'Show HN' particularly. The goal of this project was to: \n",
    "\n",
    "1) Analyze two types of posts to determine  whether titles that started with 'Ask HN' or 'Show HN' had more comments on average.\n",
    "\n",
    "2) Do posts created at a certain time receive more comments on average? "
   ]
  },
  {
   "cell_type": "markdown",
   "metadata": {},
   "source": [
    "### Step 1: Convert Data to List of Lists"
   ]
  },
  {
   "cell_type": "code",
   "execution_count": 1,
   "metadata": {
    "collapsed": false
   },
   "outputs": [
    {
     "name": "stdout",
     "output_type": "stream",
     "text": [
      "[['id', 'title', 'url', 'num_points', 'num_comments', 'author', 'created_at'], ['12224879', 'Interactive Dynamic Video', 'http://www.interactivedynamicvideo.com/', '386', '52', 'ne0phyte', '8/4/2016 11:52'], ['10975351', 'How to Use Open Source and Shut the Fuck Up at the Same Time', 'http://hueniverse.com/2016/01/26/how-to-use-open-source-and-shut-the-fuck-up-at-the-same-time/', '39', '10', 'josep2', '1/26/2016 19:30'], ['11964716', \"Florida DJs May Face Felony for April Fools' Water Joke\", 'http://www.thewire.com/entertainment/2013/04/florida-djs-april-fools-water-joke/63798/', '2', '1', 'vezycash', '6/23/2016 22:20'], ['11919867', 'Technology ventures: From Idea to Enterprise', 'https://www.amazon.com/Technology-Ventures-Enterprise-Thomas-Byers/dp/0073523429', '3', '1', 'hswarna', '6/17/2016 0:01']]\n"
     ]
    }
   ],
   "source": [
    "#Step 1: Create list of lists of the data\n",
    "from csv import reader \n",
    "opened_file = open('hacker_news.csv')\n",
    "read_file = reader(opened_file)\n",
    "#Remove the header row\n",
    "hn = list(read_file)\n",
    "print(hn[:5])\n",
    "\n"
   ]
  },
  {
   "cell_type": "code",
   "execution_count": 2,
   "metadata": {
    "collapsed": false
   },
   "outputs": [
    {
     "name": "stdout",
     "output_type": "stream",
     "text": [
      "['id', 'title', 'url', 'num_points', 'num_comments', 'author', 'created_at']\n",
      "[['12224879', 'Interactive Dynamic Video', 'http://www.interactivedynamicvideo.com/', '386', '52', 'ne0phyte', '8/4/2016 11:52'], ['10975351', 'How to Use Open Source and Shut the Fuck Up at the Same Time', 'http://hueniverse.com/2016/01/26/how-to-use-open-source-and-shut-the-fuck-up-at-the-same-time/', '39', '10', 'josep2', '1/26/2016 19:30'], ['11964716', \"Florida DJs May Face Felony for April Fools' Water Joke\", 'http://www.thewire.com/entertainment/2013/04/florida-djs-april-fools-water-joke/63798/', '2', '1', 'vezycash', '6/23/2016 22:20'], ['11919867', 'Technology ventures: From Idea to Enterprise', 'https://www.amazon.com/Technology-Ventures-Enterprise-Thomas-Byers/dp/0073523429', '3', '1', 'hswarna', '6/17/2016 0:01'], ['10301696', 'Note by Note: The Making of Steinway L1037 (2007)', 'http://www.nytimes.com/2007/11/07/movies/07stein.html?_r=0', '8', '2', 'walterbell', '9/30/2015 4:12']]\n"
     ]
    }
   ],
   "source": [
    "headers = hn[0]\n",
    "hn = hn[1:] \n",
    "print(headers)\n",
    "print(hn[:5])"
   ]
  },
  {
   "cell_type": "markdown",
   "metadata": {},
   "source": [
    "### Step 2: Calculate the Length of Ask, Show and Other posts"
   ]
  },
  {
   "cell_type": "code",
   "execution_count": 3,
   "metadata": {
    "collapsed": false
   },
   "outputs": [
    {
     "name": "stdout",
     "output_type": "stream",
     "text": [
      "1744\n",
      "1162\n",
      "17194\n"
     ]
    }
   ],
   "source": [
    "#Create empty lists of ask_posts, show_posts, other_posts\n",
    "ask_posts = []\n",
    "show_posts = []\n",
    "other_posts = []\n",
    "for row in hn: \n",
    "    title = row[1]\n",
    "    if title.lower().startswith('ask hn'):\n",
    "        ask_posts.append(row)\n",
    "    elif title.lower().startswith('show hn'):\n",
    "        show_posts.append(row)\n",
    "    else:\n",
    "        other_posts.append(row)\n",
    "\n",
    "print(len(ask_posts))\n",
    "print(len(show_posts))\n",
    "print(len(other_posts))"
   ]
  },
  {
   "cell_type": "markdown",
   "metadata": {},
   "source": [
    "### Step 3: Conduct Analysis by Calculating Average\n"
   ]
  },
  {
   "cell_type": "code",
   "execution_count": 4,
   "metadata": {
    "collapsed": false
   },
   "outputs": [
    {
     "name": "stdout",
     "output_type": "stream",
     "text": [
      "14.038417431192661\n",
      "10.31669535283993\n"
     ]
    }
   ],
   "source": [
    "#Calculate the ask_comments average\n",
    "total_ask_comments = 0\n",
    "for row in ask_posts: \n",
    "    total_ask_comments += int(row[4])\n",
    "avg_ask_comments = total_ask_comments / len(ask_posts)\n",
    "print(avg_ask_comments)\n",
    "#Calculate the show comments \n",
    "total_show_comments = 0\n",
    "for row in show_posts: \n",
    "    total_show_comments += int(row[4])\n",
    "avg_show_comments = total_show_comments / len(show_posts)\n",
    "print(avg_show_comments)"
   ]
  },
  {
   "cell_type": "markdown",
   "metadata": {},
   "source": [
    "From the given output of the last cell, it is shown that the ask posts (14.038417431192661) receives on average more comments than show posts (10.31669535283993)."
   ]
  },
  {
   "cell_type": "markdown",
   "metadata": {},
   "source": [
    "### Step 4: Calculate Amount of Ask Posts and Comments by Hour \n",
    "\n",
    "The following procedures are to determine if ask posts created at a certain time are more likely to attract comments since ask posts get more comments than show posts on average. There are two parts that need to be done in order to obtain the answer: \n",
    "\n",
    "1) Calculate the amount of ask posts created in each hour of the day, along with the amount of comments received.\n",
    "\n",
    "2) Calculate the average number of comments ask posts receive by hour created. \n",
    "\n",
    "To start the procedure, we'll attempt the first part. "
   ]
  },
  {
   "cell_type": "code",
   "execution_count": 5,
   "metadata": {
    "collapsed": false
   },
   "outputs": [
    {
     "name": "stdout",
     "output_type": "stream",
     "text": [
      "{'19': 1188, '01': 683, '14': 1416, '02': 1381, '06': 397, '07': 267, '12': 687, '21': 1745, '18': 1439, '08': 492, '10': 793, '00': 447, '23': 543, '22': 479, '11': 641, '20': 1722, '09': 251, '13': 1253, '03': 421, '17': 1146, '04': 337, '16': 1814, '05': 464, '15': 4477}\n",
      "{'19': 110, '01': 60, '14': 107, '02': 58, '06': 44, '07': 34, '12': 73, '21': 109, '18': 109, '08': 48, '10': 59, '00': 55, '23': 68, '22': 71, '11': 58, '20': 80, '09': 45, '13': 85, '03': 54, '17': 100, '04': 47, '16': 108, '05': 46, '15': 116}\n"
     ]
    }
   ],
   "source": [
    "#Import the datetime module as dt\n",
    "import datetime as dt \n",
    "result_list = [] \n",
    "for row in ask_posts: \n",
    "    created_at = row[6]\n",
    "    n_comments = int(row[4])\n",
    "    result_list.append([created_at, n_comments])\n",
    "\n",
    "counts_by_hour = {}\n",
    "comments_by_hour = {}\n",
    "date_form = '%m/%d/%Y %H:%M'\n",
    "\n",
    "for row in result_list:\n",
    "    date = row[0]\n",
    "    comment = row[1]\n",
    "    hour = dt.datetime.strptime(date, date_form).strftime('%H')\n",
    "    if hour in counts_by_hour: \n",
    "        comments_by_hour[hour] += comment\n",
    "        counts_by_hour[hour] += 1\n",
    "    else: \n",
    "        comments_by_hour[hour] = comment\n",
    "        counts_by_hour[hour] = 1\n",
    "\n",
    "print(comments_by_hour)\n",
    "print(counts_by_hour)\n",
    "    "
   ]
  },
  {
   "cell_type": "code",
   "execution_count": 6,
   "metadata": {
    "collapsed": false
   },
   "outputs": [
    {
     "name": "stdout",
     "output_type": "stream",
     "text": [
      "[['19', 10.8], ['01', 11.383333333333333], ['14', 13.233644859813085], ['02', 23.810344827586206], ['06', 9.022727272727273], ['07', 7.852941176470588], ['12', 9.41095890410959], ['21', 16.009174311926607], ['18', 13.20183486238532], ['08', 10.25], ['10', 13.440677966101696], ['00', 8.127272727272727], ['23', 7.985294117647059], ['22', 6.746478873239437], ['11', 11.051724137931034], ['20', 21.525], ['09', 5.5777777777777775], ['13', 14.741176470588234], ['03', 7.796296296296297], ['17', 11.46], ['04', 7.170212765957447], ['16', 16.796296296296298], ['05', 10.08695652173913], ['15', 38.5948275862069]]\n"
     ]
    }
   ],
   "source": [
    "avg_by_hour = []\n",
    "total = 0\n",
    "for comment in comments_by_hour: \n",
    "    avg_by_hour.append([comment, comments_by_hour[comment] / counts_by_hour[comment]]) \n",
    "    \n",
    "print(avg_by_hour)"
   ]
  },
  {
   "cell_type": "code",
   "execution_count": 8,
   "metadata": {
    "collapsed": false
   },
   "outputs": [
    {
     "name": "stdout",
     "output_type": "stream",
     "text": [
      "[[10.8, '19'], [11.383333333333333, '01'], [13.233644859813085, '14'], [23.810344827586206, '02'], [9.022727272727273, '06'], [7.852941176470588, '07'], [9.41095890410959, '12'], [16.009174311926607, '21'], [13.20183486238532, '18'], [10.25, '08'], [13.440677966101696, '10'], [8.127272727272727, '00'], [7.985294117647059, '23'], [6.746478873239437, '22'], [11.051724137931034, '11'], [21.525, '20'], [5.5777777777777775, '09'], [14.741176470588234, '13'], [7.796296296296297, '03'], [11.46, '17'], [7.170212765957447, '04'], [16.796296296296298, '16'], [10.08695652173913, '05'], [38.5948275862069, '15']]\n",
      "Top 5 Hours for 'Ask HN' Posts Comments\n",
      "15 : 00: 38.59 average comments per post\n",
      "02 : 00: 23.81 average comments per post\n",
      "20 : 00: 21.52 average comments per post\n",
      "16 : 00: 16.80 average comments per post\n",
      "21 : 00: 16.01 average comments per post\n"
     ]
    }
   ],
   "source": [
    "swap_avg_by_hour = []\n",
    "for row in avg_by_hour: \n",
    "    swap_avg_by_hour.append([row[1], row[0]])\n",
    "print(swap_avg_by_hour)\n",
    "sorted_swap = sorted(swap_avg_by_hour, reverse = True)\n",
    "print(\"Top 5 Hours for 'Ask HN' Posts Comments\")\n",
    "for avg, hour in sorted_swap[:5]:\n",
    "    print(\n",
    "        '{}: {:.2f} average comments per post'.format(dt.datetime.strptime(hour, '%H').strftime('%H : %M'), avg)\n",
    "         )\n",
    "    \n"
   ]
  },
  {
   "cell_type": "markdown",
   "metadata": {},
   "source": [
    "### Final Results: \n",
    "\n",
    "The hours you should create a post to have a higher chance of receiving comments are 15:00 (3 PM), 02:00 (2 AM), 20:00 (8 PM), 16:00 (4 PM) and 21:00 (9 PM). Also, with the comments per post printed, they are all greater than the average of ask posts which concludes that posts created at a certain time are more than average. "
   ]
  }
 ],
 "metadata": {
  "kernelspec": {
   "display_name": "Python 3",
   "language": "python",
   "name": "python3"
  },
  "language_info": {
   "codemirror_mode": {
    "name": "ipython",
    "version": 3
   },
   "file_extension": ".py",
   "mimetype": "text/x-python",
   "name": "python",
   "nbconvert_exporter": "python",
   "pygments_lexer": "ipython3",
   "version": "3.4.3"
  }
 },
 "nbformat": 4,
 "nbformat_minor": 2
}
