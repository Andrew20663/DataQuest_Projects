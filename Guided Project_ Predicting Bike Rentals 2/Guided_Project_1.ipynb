{
 "cells": [
  {
   "cell_type": "markdown",
   "metadata": {
    "collapsed": true
   },
   "source": [
    "# Guided Project: Predicting Bike Rentals "
   ]
  },
  {
   "cell_type": "markdown",
   "metadata": {},
   "source": [
    "## Introduction to the Data Set"
   ]
  },
  {
   "cell_type": "code",
   "execution_count": 1,
   "metadata": {
    "collapsed": false
   },
   "outputs": [
    {
     "data": {
      "image/png": "[encoded data removed]",
      "text/plain": [
       "<matplotlib.figure.Figure at 0x7f9e73c03940>"
      ]
     },
     "metadata": {},
     "output_type": "display_data"
    },
    {
     "data": {
      "text/plain": [
       "instant       0.278379\n",
       "season        0.178056\n",
       "yr            0.250495\n",
       "mnth          0.120638\n",
       "hr            0.394071\n",
       "holiday      -0.030927\n",
       "weekday       0.026900\n",
       "workingday    0.030284\n",
       "weathersit   -0.142426\n",
       "temp          0.404772\n",
       "atemp         0.400929\n",
       "hum          -0.322911\n",
       "windspeed     0.093234\n",
       "casual        0.694564\n",
       "registered    0.972151\n",
       "cnt           1.000000\n",
       "Name: cnt, dtype: float64"
      ]
     },
     "execution_count": 1,
     "metadata": {},
     "output_type": "execute_result"
    }
   ],
   "source": [
    "import pandas as pd\n",
    "import numpy as np \n",
    "import matplotlib.pyplot as plt\n",
    "import seaborn as sns\n",
    "%matplotlib inline\n",
    "\n",
    "bike_rentals = pd.read_csv('bike_rental_hour.csv', parse_dates = True)\n",
    "bike_rentals.head() \n",
    "plt.hist(bike_rentals['cnt'])\n",
    "plt.title('Bike Rentals Count Histogram')\n",
    "plt.show()\n",
    "bike_rentals.corr()['cnt']\n"
   ]
  },
  {
   "cell_type": "markdown",
   "metadata": {},
   "source": [
    "## Calculating Features "
   ]
  },
  {
   "cell_type": "markdown",
   "metadata": {},
   "source": [
    "For this step, I will calculate features before applying machine learning models. The features in a model can enhance the accuracy by showing new information or keeping information that is beneficial for the model. "
   ]
  },
  {
   "cell_type": "code",
   "execution_count": 2,
   "metadata": {
    "collapsed": false
   },
   "outputs": [],
   "source": [
    "def assign_label(hour):\n",
    "    if (hour >= 6) & (hour <=12):\n",
    "        return 1\n",
    "    elif (hour >=12) & (hour <= 18):\n",
    "        return 2\n",
    "    elif (hour >= 18) & (hour <= 24):\n",
    "        return 3\n",
    "    else: \n",
    "        return 4 \n",
    "\n",
    "bike_rentals['time_label'] = bike_rentals['hr'].apply(assign_label)"
   ]
  },
  {
   "cell_type": "markdown",
   "metadata": {},
   "source": [
    "## Splitting the Data Into Train and Test Sets"
   ]
  },
  {
   "cell_type": "markdown",
   "metadata": {},
   "source": [
    "Before a machine learning algorithm can be applied, I have to split the data into both training data and testing data. I will be able to train an algorithm on the training set and see the accuracy on how it learns on the new test set. If I train the algorithm on the training data and then see how it performs on the training data, it will be a low error due to overfitting. I will split the data based on an 80% training and 20% test set. Also, the metric that seems to make the most sense to use is the MSE metric since this is a numerical data set."
   ]
  },
  {
   "cell_type": "code",
   "execution_count": 3,
   "metadata": {
    "collapsed": true
   },
   "outputs": [],
   "source": [
    "#Sample the bike_rentals data and set random_state = 1 for reproducibility\n",
    "train = bike_rentals.sample(random_state = 1, frac = 0.8)\n",
    "test = bike_rentals.loc[~bike_rentals.index.isin(train.index)]\n"
   ]
  },
  {
   "cell_type": "markdown",
   "metadata": {},
   "source": [
    "## Applying Linear Regression"
   ]
  },
  {
   "cell_type": "markdown",
   "metadata": {},
   "source": [
    "After conducting exploration and manipulation, I will apply linear regression to the data set. I believe linear regression will work well with this data because I will be predicting continuous values for the price of bike rentals. Also, it will work well since the columns in the dataframe are highly correlated with the 'cnt' column. Linear Regression is an algorithm that works best when the predictors are linearly correlated to the target column and is also independent. Also, it's fairly resistant to overfitting but can have underfitting problems as well. "
   ]
  },
  {
   "cell_type": "code",
   "execution_count": 4,
   "metadata": {
    "collapsed": false
   },
   "outputs": [
    {
     "data": {
      "text/plain": [
       "16402.497093142552"
      ]
     },
     "execution_count": 4,
     "metadata": {},
     "output_type": "execute_result"
    }
   ],
   "source": [
    "columns = list(train.columns)\n",
    "columns.remove('cnt')\n",
    "columns.remove('casual')\n",
    "columns.remove('dteday')\n",
    "columns.remove('registered')\n",
    "\n",
    "from sklearn.linear_model import LinearRegression\n",
    "lr = LinearRegression()\n",
    "lr.fit(train[columns], train['cnt'])\n",
    "predictions = lr.predict(test[columns])\n",
    "np.mean((predictions - test['cnt'])**2)\n"
   ]
  },
  {
   "cell_type": "markdown",
   "metadata": {},
   "source": [
    "## Applying Decision Trees"
   ]
  },
  {
   "cell_type": "markdown",
   "metadata": {},
   "source": [
    "After creating the Linear Regression model and calculating the squared MSE, it's time to apply the decision tree algorithm. I will be able to compare the error with the error from linear regression which will enable me to choose the best algorithm for the data. Decision Trees predict outcomes much more reliably than linear regression models. However, due to the complexity of a decision tree, it also tends to overfit and are vulernable to instability. "
   ]
  },
  {
   "cell_type": "code",
   "execution_count": 5,
   "metadata": {
    "collapsed": false
   },
   "outputs": [
    {
     "data": {
      "text/plain": [
       "2737.4544687516936"
      ]
     },
     "execution_count": 5,
     "metadata": {},
     "output_type": "execute_result"
    }
   ],
   "source": [
    "from sklearn.tree import DecisionTreeRegressor\n",
    "#5 Leaves\n",
    "clf = DecisionTreeRegressor(min_samples_leaf = 5)\n",
    "clf.fit(train[columns], train['cnt'])\n",
    "predictions = clf.predict(test[columns])\n",
    "np.mean((predictions - test['cnt'])**2)\n"
   ]
  },
  {
   "cell_type": "code",
   "execution_count": 6,
   "metadata": {
    "collapsed": false
   },
   "outputs": [
    {
     "data": {
      "text/plain": [
       "3007.5606380258278"
      ]
     },
     "execution_count": 6,
     "metadata": {},
     "output_type": "execute_result"
    }
   ],
   "source": [
    "#2 Leaves\n",
    "clf = DecisionTreeRegressor(min_samples_leaf = 2)\n",
    "clf.fit(train[columns], train['cnt'])\n",
    "predictions = clf.predict(test[columns])\n",
    "np.mean((predictions - test['cnt'])**2)\n"
   ]
  },
  {
   "cell_type": "markdown",
   "metadata": {},
   "source": [
    "## Applying Random Forests"
   ]
  },
  {
   "cell_type": "code",
   "execution_count": 7,
   "metadata": {
    "collapsed": false
   },
   "outputs": [
    {
     "data": {
      "text/plain": [
       "2206.7471728137252"
      ]
     },
     "execution_count": 7,
     "metadata": {},
     "output_type": "execute_result"
    }
   ],
   "source": [
    "from sklearn.ensemble import RandomForestRegressor\n",
    "rf = RandomForestRegressor(min_samples_leaf = 5)\n",
    "rf.fit(train[columns], train['cnt'])\n",
    "predictions = rf.predict(test[columns])\n",
    "np.mean((predictions - test['cnt'])**2)"
   ]
  },
  {
   "cell_type": "code",
   "execution_count": 8,
   "metadata": {
    "collapsed": false
   },
   "outputs": [
    {
     "data": {
      "text/plain": [
       "1954.4105768685895"
      ]
     },
     "execution_count": 8,
     "metadata": {},
     "output_type": "execute_result"
    }
   ],
   "source": [
    "rf = RandomForestRegressor(min_samples_leaf = 2)\n",
    "rf.fit(train[columns], train['cnt'])\n",
    "predictions = rf.predict(test[columns])\n",
    "np.mean((predictions - test['cnt'])**2)"
   ]
  }
 ],
 "metadata": {
  "kernelspec": {
   "display_name": "Python 3",
   "language": "python",
   "name": "python3"
  },
  "language_info": {
   "codemirror_mode": {
    "name": "ipython",
    "version": 3
   },
   "file_extension": ".py",
   "mimetype": "text/x-python",
   "name": "python",
   "nbconvert_exporter": "python",
   "pygments_lexer": "ipython3",
   "version": "3.4.3"
  }
 },
 "nbformat": 4,
 "nbformat_minor": 0
}
