{
 "cells": [
  {
   "cell_type": "markdown",
   "metadata": {},
   "source": [
    "# Guided Project: Finding the Best Markets to Adverstise In "
   ]
  },
  {
   "cell_type": "markdown",
   "metadata": {},
   "source": [
    "For this particular project, the goal is to incorporate the necessary data analysis of finding the two best markets to advertise a product for a particular e-learning company offering courses on programming. Therefore, in order to see where the investment of advertisement should be put towards to, I will use the skills I have learned so far. The skills that we will apply towards this project include: \n",
    "\n",
    "   1) Summarizing distributions using the mean, median and mode\n",
    "   \n",
    "   2) Measuring the variablity of a distribution using the range,\n",
    "      mean absolute deviation, variance, and the standard deviation\n",
    "    \n",
    "   3) Locating any value in a distribution using z-scores. \n",
    "   \n"
   ]
  },
  {
   "cell_type": "markdown",
   "metadata": {},
   "source": [
    "## Understanding the Data "
   ]
  },
  {
   "cell_type": "markdown",
   "metadata": {},
   "source": [
    "To achieve this goal, I could conduct surveys for different markets to find out which one would be the best to advertise for. However, there are cost limitations, and this would be costly, and I would therefore like to take a less costly approach towards this project. I will try to look for existing data that is related for the purpose of this project. The dataset I will use is freeCodeCamp's 2017 New Coder Survey because it is readily available. On the contrary of downloading the csv file, I downloaded directly from the link to avoid the dtypes warning error and also set low memory to 0 to avoid the error as well. "
   ]
  },
  {
   "cell_type": "code",
   "execution_count": 1,
   "metadata": {
    "collapsed": false
   },
   "outputs": [
    {
     "name": "stdout",
     "output_type": "stream",
     "text": [
      "(18175, 136)\n"
     ]
    },
    {
     "data": {
      "text/html": [
       "<div>\n",
       "<style scoped>\n",
       "    .dataframe tbody tr th:only-of-type {\n",
       "        vertical-align: middle;\n",
       "    }\n",
       "\n",
       "    .dataframe tbody tr th {\n",
       "        vertical-align: top;\n",
       "    }\n",
       "\n",
       "    .dataframe thead th {\n",
       "        text-align: right;\n",
       "    }\n",
       "</style>\n",
       "<table border=\"1\" class=\"dataframe\">\n",
       "  <thead>\n",
       "    <tr style=\"text-align: right;\">\n",
       "      <th></th>\n",
       "      <th>Age</th>\n",
       "      <th>AttendedBootcamp</th>\n",
       "      <th>BootcampFinish</th>\n",
       "      <th>BootcampLoanYesNo</th>\n",
       "      <th>BootcampName</th>\n",
       "      <th>BootcampRecommend</th>\n",
       "      <th>ChildrenNumber</th>\n",
       "      <th>CityPopulation</th>\n",
       "      <th>CodeEventConferences</th>\n",
       "      <th>CodeEventDjangoGirls</th>\n",
       "      <th>...</th>\n",
       "      <th>YouTubeFCC</th>\n",
       "      <th>YouTubeFunFunFunction</th>\n",
       "      <th>YouTubeGoogleDev</th>\n",
       "      <th>YouTubeLearnCode</th>\n",
       "      <th>YouTubeLevelUpTuts</th>\n",
       "      <th>YouTubeMIT</th>\n",
       "      <th>YouTubeMozillaHacks</th>\n",
       "      <th>YouTubeOther</th>\n",
       "      <th>YouTubeSimplilearn</th>\n",
       "      <th>YouTubeTheNewBoston</th>\n",
       "    </tr>\n",
       "  </thead>\n",
       "  <tbody>\n",
       "    <tr>\n",
       "      <th>0</th>\n",
       "      <td>27.0</td>\n",
       "      <td>0.0</td>\n",
       "      <td>NaN</td>\n",
       "      <td>NaN</td>\n",
       "      <td>NaN</td>\n",
       "      <td>NaN</td>\n",
       "      <td>NaN</td>\n",
       "      <td>more than 1 million</td>\n",
       "      <td>NaN</td>\n",
       "      <td>NaN</td>\n",
       "      <td>...</td>\n",
       "      <td>NaN</td>\n",
       "      <td>NaN</td>\n",
       "      <td>NaN</td>\n",
       "      <td>NaN</td>\n",
       "      <td>NaN</td>\n",
       "      <td>NaN</td>\n",
       "      <td>NaN</td>\n",
       "      <td>NaN</td>\n",
       "      <td>NaN</td>\n",
       "      <td>NaN</td>\n",
       "    </tr>\n",
       "    <tr>\n",
       "      <th>1</th>\n",
       "      <td>34.0</td>\n",
       "      <td>0.0</td>\n",
       "      <td>NaN</td>\n",
       "      <td>NaN</td>\n",
       "      <td>NaN</td>\n",
       "      <td>NaN</td>\n",
       "      <td>NaN</td>\n",
       "      <td>less than 100,000</td>\n",
       "      <td>NaN</td>\n",
       "      <td>NaN</td>\n",
       "      <td>...</td>\n",
       "      <td>1.0</td>\n",
       "      <td>NaN</td>\n",
       "      <td>NaN</td>\n",
       "      <td>NaN</td>\n",
       "      <td>NaN</td>\n",
       "      <td>NaN</td>\n",
       "      <td>NaN</td>\n",
       "      <td>NaN</td>\n",
       "      <td>NaN</td>\n",
       "      <td>NaN</td>\n",
       "    </tr>\n",
       "    <tr>\n",
       "      <th>2</th>\n",
       "      <td>21.0</td>\n",
       "      <td>0.0</td>\n",
       "      <td>NaN</td>\n",
       "      <td>NaN</td>\n",
       "      <td>NaN</td>\n",
       "      <td>NaN</td>\n",
       "      <td>NaN</td>\n",
       "      <td>more than 1 million</td>\n",
       "      <td>NaN</td>\n",
       "      <td>NaN</td>\n",
       "      <td>...</td>\n",
       "      <td>NaN</td>\n",
       "      <td>NaN</td>\n",
       "      <td>NaN</td>\n",
       "      <td>1.0</td>\n",
       "      <td>1.0</td>\n",
       "      <td>NaN</td>\n",
       "      <td>NaN</td>\n",
       "      <td>NaN</td>\n",
       "      <td>NaN</td>\n",
       "      <td>NaN</td>\n",
       "    </tr>\n",
       "    <tr>\n",
       "      <th>3</th>\n",
       "      <td>26.0</td>\n",
       "      <td>0.0</td>\n",
       "      <td>NaN</td>\n",
       "      <td>NaN</td>\n",
       "      <td>NaN</td>\n",
       "      <td>NaN</td>\n",
       "      <td>NaN</td>\n",
       "      <td>between 100,000 and 1 million</td>\n",
       "      <td>NaN</td>\n",
       "      <td>NaN</td>\n",
       "      <td>...</td>\n",
       "      <td>1.0</td>\n",
       "      <td>1.0</td>\n",
       "      <td>NaN</td>\n",
       "      <td>NaN</td>\n",
       "      <td>1.0</td>\n",
       "      <td>NaN</td>\n",
       "      <td>NaN</td>\n",
       "      <td>NaN</td>\n",
       "      <td>NaN</td>\n",
       "      <td>NaN</td>\n",
       "    </tr>\n",
       "    <tr>\n",
       "      <th>4</th>\n",
       "      <td>20.0</td>\n",
       "      <td>0.0</td>\n",
       "      <td>NaN</td>\n",
       "      <td>NaN</td>\n",
       "      <td>NaN</td>\n",
       "      <td>NaN</td>\n",
       "      <td>NaN</td>\n",
       "      <td>between 100,000 and 1 million</td>\n",
       "      <td>NaN</td>\n",
       "      <td>NaN</td>\n",
       "      <td>...</td>\n",
       "      <td>NaN</td>\n",
       "      <td>NaN</td>\n",
       "      <td>NaN</td>\n",
       "      <td>NaN</td>\n",
       "      <td>NaN</td>\n",
       "      <td>NaN</td>\n",
       "      <td>NaN</td>\n",
       "      <td>NaN</td>\n",
       "      <td>NaN</td>\n",
       "      <td>NaN</td>\n",
       "    </tr>\n",
       "  </tbody>\n",
       "</table>\n",
       "<p>5 rows × 136 columns</p>\n",
       "</div>"
      ],
      "text/plain": [
       "    Age  AttendedBootcamp  BootcampFinish  BootcampLoanYesNo BootcampName  \\\n",
       "0  27.0               0.0             NaN                NaN          NaN   \n",
       "1  34.0               0.0             NaN                NaN          NaN   \n",
       "2  21.0               0.0             NaN                NaN          NaN   \n",
       "3  26.0               0.0             NaN                NaN          NaN   \n",
       "4  20.0               0.0             NaN                NaN          NaN   \n",
       "\n",
       "   BootcampRecommend  ChildrenNumber                 CityPopulation  \\\n",
       "0                NaN             NaN            more than 1 million   \n",
       "1                NaN             NaN              less than 100,000   \n",
       "2                NaN             NaN            more than 1 million   \n",
       "3                NaN             NaN  between 100,000 and 1 million   \n",
       "4                NaN             NaN  between 100,000 and 1 million   \n",
       "\n",
       "   CodeEventConferences  CodeEventDjangoGirls         ...           \\\n",
       "0                   NaN                   NaN         ...            \n",
       "1                   NaN                   NaN         ...            \n",
       "2                   NaN                   NaN         ...            \n",
       "3                   NaN                   NaN         ...            \n",
       "4                   NaN                   NaN         ...            \n",
       "\n",
       "   YouTubeFCC  YouTubeFunFunFunction  YouTubeGoogleDev  YouTubeLearnCode  \\\n",
       "0         NaN                    NaN               NaN               NaN   \n",
       "1         1.0                    NaN               NaN               NaN   \n",
       "2         NaN                    NaN               NaN               1.0   \n",
       "3         1.0                    1.0               NaN               NaN   \n",
       "4         NaN                    NaN               NaN               NaN   \n",
       "\n",
       "   YouTubeLevelUpTuts  YouTubeMIT  YouTubeMozillaHacks YouTubeOther  \\\n",
       "0                 NaN         NaN                  NaN          NaN   \n",
       "1                 NaN         NaN                  NaN          NaN   \n",
       "2                 1.0         NaN                  NaN          NaN   \n",
       "3                 1.0         NaN                  NaN          NaN   \n",
       "4                 NaN         NaN                  NaN          NaN   \n",
       "\n",
       "   YouTubeSimplilearn  YouTubeTheNewBoston  \n",
       "0                 NaN                  NaN  \n",
       "1                 NaN                  NaN  \n",
       "2                 NaN                  NaN  \n",
       "3                 NaN                  NaN  \n",
       "4                 NaN                  NaN  \n",
       "\n",
       "[5 rows x 136 columns]"
      ]
     },
     "execution_count": 1,
     "metadata": {},
     "output_type": "execute_result"
    }
   ],
   "source": [
    "import pandas as pd \n",
    "import matplotlib.pyplot as plt \n",
    "%matplotlib inline\n",
    "\n",
    "direct_link = 'https://raw.githubusercontent.com/freeCodeCamp/2017-new-coder-survey/master/clean-data/2017-fCC-New-Coders-Survey-Data.csv'\n",
    "df = pd.read_csv(direct_link, low_memory = 0) \n",
    "\n",
    "print(df.shape)\n",
    "df.head()"
   ]
  },
  {
   "cell_type": "markdown",
   "metadata": {
    "collapsed": true
   },
   "source": [
    "From the ouput, it seems that there are many columns with NaN values. Also, there are 18,175 rows and 136 columns from the output. Let's move onto the next step to check for sample representativity. "
   ]
  },
  {
   "cell_type": "markdown",
   "metadata": {},
   "source": [
    "## Checking for Sample Representativity"
   ]
  },
  {
   "cell_type": "markdown",
   "metadata": {},
   "source": [
    "For the courses that are offered in programming, it is leaned more towards web and mobile development, but there are other genres and domains covered as well such as data science, game development, and more. I wanted to find answers for a population of new coders that are interested in these programs. I wanted to know: \n",
    "    \n",
    "   1) Where the new coders were located?\n",
    "    \n",
    "   2) Which location has the highest number of new coders?\n",
    "   \n",
    "   3) The amount of money new coders are willing to pay for this \n",
    "      particular skill. \n",
    "      \n",
    "I first need to check though if the sample is representative of the population. "
   ]
  },
  {
   "cell_type": "code",
   "execution_count": 2,
   "metadata": {
    "collapsed": false
   },
   "outputs": [
    {
     "data": {
      "text/plain": [
       "Full-Stack Web Developer     11.770595\n",
       "  Front-End Web Developer     6.435927\n",
       "  Data Scientist              2.173913\n",
       "Back-End Web Developer        2.030892\n",
       "  Mobile Developer            1.673341\n",
       "Name: JobRoleInterest, dtype: float64"
      ]
     },
     "execution_count": 2,
     "metadata": {},
     "output_type": "execute_result"
    }
   ],
   "source": [
    "freq_table = df['JobRoleInterest'].value_counts(normalize = True) * 100\n",
    "freq_table.head()\n"
   ]
  },
  {
   "cell_type": "code",
   "execution_count": 3,
   "metadata": {
    "collapsed": false
   },
   "outputs": [
    {
     "data": {
      "text/plain": [
       "1     31.650458\n",
       "2     10.883867\n",
       "3     15.889588\n",
       "4     15.217391\n",
       "5     12.042334\n",
       "6      6.721968\n",
       "7      3.861556\n",
       "8      1.759153\n",
       "9      0.986842\n",
       "10     0.471968\n",
       "11     0.185927\n",
       "12     0.300343\n",
       "13     0.028604\n",
       "Name: JobRoleInterest, dtype: float64"
      ]
     },
     "execution_count": 3,
     "metadata": {},
     "output_type": "execute_result"
    }
   ],
   "source": [
    "drop = df['JobRoleInterest'].dropna()\n",
    "splitted_interests = drop.str.split(',')\n",
    "options = splitted_interests.apply(lambda x: len(x))\n",
    "options.value_counts(normalize = True).sort_index() * 100\n"
   ]
  },
  {
   "cell_type": "markdown",
   "metadata": {},
   "source": [
    "From this, it is apparent that only 31.7% have an idea of which programming area they are interested in. As shown, it can be seen that most students are interested in web and mobile development. \n"
   ]
  },
  {
   "cell_type": "code",
   "execution_count": 4,
   "metadata": {
    "collapsed": false
   },
   "outputs": [
    {
     "name": "stdout",
     "output_type": "stream",
     "text": [
      "True     86.241419\n",
      "False    13.758581\n",
      "Name: JobRoleInterest, dtype: float64\n"
     ]
    },
    {
     "data": {
      "image/png": "[encoded data removed]",
      "text/plain": [
       "<matplotlib.figure.Figure at 0x7f1934c40940>"
      ]
     },
     "metadata": {},
     "output_type": "display_data"
    }
   ],
   "source": [
    "web_mobile = drop.str.contains('Web Developer|Mobile Developer')\n",
    "web_mobile_freq = web_mobile.value_counts(normalize = True) * 100\n",
    "plt.style.use('fivethirtyeight')\n",
    "web_mobile_freq.plot.bar()\n",
    "plt.title('Most Students Interested in Web/Mobile Development', y = 1.1)\n",
    "plt.ylabel('Percentage')\n",
    "plt.xticks([0,1], ['Web/Mobile \\n Development', 'Other'], rotation = 0)\n",
    "print(web_mobile_freq)"
   ]
  },
  {
   "cell_type": "markdown",
   "metadata": {},
   "source": [
    "From the graph and the printed data, it is apparent that 86.24% of students are interested in Web/Mobile Development and 13.76% of students are interested in other classes."
   ]
  },
  {
   "cell_type": "markdown",
   "metadata": {},
   "source": [
    "## New Codes - Locations and Densities "
   ]
  },
  {
   "cell_type": "code",
   "execution_count": 5,
   "metadata": {
    "collapsed": false
   },
   "outputs": [
    {
     "name": "stdout",
     "output_type": "stream",
     "text": [
      "United States of America    3125\n",
      "India                        528\n",
      "United Kingdom               315\n",
      "Canada                       260\n",
      "Poland                       131\n",
      "Name: CountryLive, dtype: int64\n",
      "\n",
      "\n"
     ]
    },
    {
     "data": {
      "text/plain": [
       "United States of America    45.700497\n",
       "India                        7.721556\n",
       "United Kingdom               4.606610\n",
       "Canada                       3.802281\n",
       "Poland                       1.915765\n",
       "Name: CountryLive, dtype: float64"
      ]
     },
     "execution_count": 5,
     "metadata": {},
     "output_type": "execute_result"
    }
   ],
   "source": [
    "df = df[df['JobRoleInterest'].notnull()].copy()\n",
    "print(df['CountryLive'].value_counts().head())\n",
    "print('\\n')\n",
    "df['CountryLive'].value_counts(normalize = True).head() * 100"
   ]
  },
  {
   "cell_type": "markdown",
   "metadata": {},
   "source": [
    "From the frequency tables, it appears that the United States of America has a significantly larger number of users who actually live in the US compared to the other users from other countries. "
   ]
  },
  {
   "cell_type": "markdown",
   "metadata": {},
   "source": [
    "## Spending Money for Learning "
   ]
  },
  {
   "cell_type": "markdown",
   "metadata": {},
   "source": [
    "From the MoneyForLearning column describes in American dollars the amount of money spent by the students from the start of coding until the end of the survey. At a selling price of $59, I am very much interested in knowing how much money each student spends every month. I will also narrow down the countries to US, India, United Kingdom and Canada. The reason for this decision is because they have the highest absolute frequencies in the sample, and english is a language used in all those countries. "
   ]
  },
  {
   "cell_type": "code",
   "execution_count": 6,
   "metadata": {
    "collapsed": false
   },
   "outputs": [
    {
     "data": {
      "text/plain": [
       "United States of America    2933\n",
       "India                        463\n",
       "United Kingdom               279\n",
       "Canada                       240\n",
       "Poland                       122\n",
       "Name: CountryLive, dtype: int64"
      ]
     },
     "execution_count": 6,
     "metadata": {},
     "output_type": "execute_result"
    }
   ],
   "source": [
    "df['MonthsProgramming'].replace(0,1, inplace = True)\n",
    "df['Money Spent Per Month'] = df['MoneyForLearning'] / df['MonthsProgramming']\n",
    "df['Money Spent Per Month'].isnull().sum()\n",
    "df = df[df['Money Spent Per Month'].notnull()]\n",
    "df = df[df['CountryLive'].notnull()]\n",
    "df['CountryLive'].value_counts().head()"
   ]
  },
  {
   "cell_type": "code",
   "execution_count": 7,
   "metadata": {
    "collapsed": false
   },
   "outputs": [
    {
     "data": {
      "text/plain": [
       "CountryLive\n",
       "United States of America    227.997996\n",
       "India                       135.100982\n",
       "United Kingdom               45.534443\n",
       "Canada                      113.510961\n",
       "Name: Money Spent Per Month, dtype: float64"
      ]
     },
     "execution_count": 7,
     "metadata": {},
     "output_type": "execute_result"
    }
   ],
   "source": [
    "df_mean = df.groupby('CountryLive').mean()\n",
    "df_mean['Money Spent Per Month'][['United States of America', 'India', 'United Kingdom', 'Canada']]"
   ]
  },
  {
   "cell_type": "markdown",
   "metadata": {},
   "source": [
    "From the data shown, it is surprising how the mean values for India and Canada both exceed the United Kingdom by a significant amount. This is surprising because from a socioeconomic standpoint, the UK is known to also invest a good amount of money into its education. "
   ]
  },
  {
   "cell_type": "markdown",
   "metadata": {},
   "source": [
    "## Dealing with Extreme Outliers"
   ]
  },
  {
   "cell_type": "code",
   "execution_count": 8,
   "metadata": {
    "collapsed": false
   },
   "outputs": [
    {
     "name": "stderr",
     "output_type": "stream",
     "text": [
      "/dataquest/system/env/python3/lib/python3.4/site-packages/seaborn/categorical.py:454: FutureWarning:\n",
      "\n",
      "remove_na is deprecated and is a private function. Do not use.\n",
      "\n"
     ]
    },
    {
     "data": {
      "image/png": "[encoded data removed]",
      "text/plain": [
       "<matplotlib.figure.Figure at 0x7f19349daa20>"
      ]
     },
     "metadata": {},
     "output_type": "display_data"
    }
   ],
   "source": [
    "import seaborn as sns \n",
    "four_countries = df[df['CountryLive'].str.contains('United States of America|India|United Kingdom|Canada')]\n",
    "sns.boxplot(x = 'CountryLive', y = 'Money Spent Per Month', data = four_countries)\n",
    "plt.title('Money Spent Per Month Per Country', fontsize = 16)\n",
    "plt.xlabel('Country')\n",
    "plt.ylabel('Money Per Month in US Dollars')\n",
    "plt.xticks(range(4), ['US', 'UK', 'India', 'Canada'])\n",
    "plt.show()"
   ]
  },
  {
   "cell_type": "markdown",
   "metadata": {},
   "source": [
    "From the data, it is not exactly clear and can be hard to read. I will filter the data to see and get a better picture. Also, there seems to be one outlier that is present in this dataset. I will filter the money spent per month to be less than 20000 and see where it goes from there. "
   ]
  },
  {
   "cell_type": "code",
   "execution_count": 9,
   "metadata": {
    "collapsed": false
   },
   "outputs": [
    {
     "name": "stderr",
     "output_type": "stream",
     "text": [
      "/dataquest/system/env/python3/lib/python3.4/site-packages/seaborn/categorical.py:454: FutureWarning:\n",
      "\n",
      "remove_na is deprecated and is a private function. Do not use.\n",
      "\n"
     ]
    },
    {
     "data": {
      "image/png": "[encoded data removed]",
      "text/plain": [
       "<matplotlib.figure.Figure at 0x7f1929bd1630>"
      ]
     },
     "metadata": {},
     "output_type": "display_data"
    }
   ],
   "source": [
    "df = df[df['Money Spent Per Month'] < 20000]\n",
    "countries_mean = df.groupby('CountryLive').mean()\n",
    "countries_mean['Money Spent Per Month'][['United States of America', 'United Kingdom', 'India', 'Canada']]\n",
    "four_countries_updated = df[df['CountryLive'].str.contains('United States of America|United Kingdom|India|Canada')]\n",
    "sns.boxplot(x = 'CountryLive', y = 'Money Spent Per Month', data = four_countries_updated)\n",
    "plt.title('Money Spent Per Month Per Country < 20000')\n",
    "plt.xlabel('Country')\n",
    "plt.ylabel('Money Per Month in US Dollars')\n",
    "plt.xticks(range(4), ['US', 'UK', 'India', 'Canada'])\n",
    "plt.show()"
   ]
  },
  {
   "cell_type": "markdown",
   "metadata": {},
   "source": [
    "From this update in the data, it is a bit clearer to see that there are outliers for the US, India and Canada. Let's see these outliers. "
   ]
  },
  {
   "cell_type": "code",
   "execution_count": 10,
   "metadata": {
    "collapsed": false
   },
   "outputs": [
    {
     "name": "stdout",
     "output_type": "stream",
     "text": [
      "        Age  AttendedBootcamp  BootcampFinish  BootcampLoanYesNo BootcampName  \\\n",
      "1728   24.0               0.0             NaN                NaN          NaN   \n",
      "1755   20.0               0.0             NaN                NaN          NaN   \n",
      "7989   28.0               0.0             NaN                NaN          NaN   \n",
      "8126   22.0               0.0             NaN                NaN          NaN   \n",
      "13398  19.0               0.0             NaN                NaN          NaN   \n",
      "15587  27.0               0.0             NaN                NaN          NaN   \n",
      "\n",
      "       BootcampRecommend  ChildrenNumber                 CityPopulation  \\\n",
      "1728                 NaN             NaN  between 100,000 and 1 million   \n",
      "1755                 NaN             NaN            more than 1 million   \n",
      "7989                 NaN             NaN  between 100,000 and 1 million   \n",
      "8126                 NaN             NaN            more than 1 million   \n",
      "13398                NaN             NaN            more than 1 million   \n",
      "15587                NaN             NaN            more than 1 million   \n",
      "\n",
      "       CodeEventConferences  CodeEventDjangoGirls          ...            \\\n",
      "1728                    NaN                   NaN          ...             \n",
      "1755                    NaN                   NaN          ...             \n",
      "7989                    1.0                   NaN          ...             \n",
      "8126                    NaN                   NaN          ...             \n",
      "13398                   NaN                   NaN          ...             \n",
      "15587                   NaN                   NaN          ...             \n",
      "\n",
      "       YouTubeFunFunFunction  YouTubeGoogleDev  YouTubeLearnCode  \\\n",
      "1728                     NaN               NaN               NaN   \n",
      "1755                     NaN               NaN               1.0   \n",
      "7989                     NaN               NaN               NaN   \n",
      "8126                     NaN               1.0               NaN   \n",
      "13398                    NaN               NaN               NaN   \n",
      "15587                    NaN               1.0               1.0   \n",
      "\n",
      "       YouTubeLevelUpTuts  YouTubeMIT  YouTubeMozillaHacks  YouTubeOther  \\\n",
      "1728                  NaN         NaN                  NaN           NaN   \n",
      "1755                  NaN         1.0                  NaN           NaN   \n",
      "7989                  NaN         NaN                  NaN           NaN   \n",
      "8126                  NaN         1.0                  NaN           NaN   \n",
      "13398                 NaN         NaN                  NaN           NaN   \n",
      "15587                 NaN         1.0                  NaN           NaN   \n",
      "\n",
      "      YouTubeSimplilearn  YouTubeTheNewBoston  Money Spent Per Month  \n",
      "1728                 NaN                  NaN            5000.000000  \n",
      "1755                 NaN                  NaN            3333.333333  \n",
      "7989                 NaN                  NaN            5000.000000  \n",
      "8126                 NaN                  1.0            5000.000000  \n",
      "13398                NaN                  NaN           10000.000000  \n",
      "15587                NaN                  NaN            4166.666667  \n",
      "\n",
      "[6 rows x 137 columns]\n"
     ]
    }
   ],
   "source": [
    "india_outliers = four_countries_updated[(four_countries_updated['Money Spent Per Month'] >= 2500) & (four_countries_updated['CountryLive'] == 'India')]\n",
    "print(india_outliers)\n",
    "four_countries_updated = four_countries_updated.drop(india_outliers.index)"
   ]
  },
  {
   "cell_type": "code",
   "execution_count": 11,
   "metadata": {
    "collapsed": false
   },
   "outputs": [
    {
     "name": "stdout",
     "output_type": "stream",
     "text": [
      "        Age  AttendedBootcamp  BootcampFinish  BootcampLoanYesNo  \\\n",
      "718    26.0               1.0             0.0                0.0   \n",
      "1222   32.0               1.0             0.0                0.0   \n",
      "3184   34.0               1.0             1.0                0.0   \n",
      "3930   31.0               0.0             NaN                NaN   \n",
      "6805   46.0               1.0             1.0                1.0   \n",
      "7198   32.0               0.0             NaN                NaN   \n",
      "7505   26.0               1.0             0.0                1.0   \n",
      "9778   33.0               1.0             0.0                1.0   \n",
      "16650  29.0               0.0             NaN                NaN   \n",
      "16997  27.0               0.0             NaN                NaN   \n",
      "17231  50.0               0.0             NaN                NaN   \n",
      "\n",
      "                                 BootcampName  BootcampRecommend  \\\n",
      "718    The Coding Boot Camp at UCLA Extension                1.0   \n",
      "1222                            The Iron Yard                1.0   \n",
      "3184                           We Can Code IT                1.0   \n",
      "3930                                      NaN                NaN   \n",
      "6805                                 Sabio.la                0.0   \n",
      "7198                                      NaN                NaN   \n",
      "7505                                   Codeup                0.0   \n",
      "9778                             Grand Circus                1.0   \n",
      "16650                                     NaN                NaN   \n",
      "16997                                     NaN                NaN   \n",
      "17231                                     NaN                NaN   \n",
      "\n",
      "       ChildrenNumber                 CityPopulation  CodeEventConferences  \\\n",
      "718               NaN            more than 1 million                   1.0   \n",
      "1222              NaN  between 100,000 and 1 million                   NaN   \n",
      "3184              NaN            more than 1 million                   NaN   \n",
      "3930              NaN  between 100,000 and 1 million                   NaN   \n",
      "6805              NaN  between 100,000 and 1 million                   NaN   \n",
      "7198              NaN            more than 1 million                   1.0   \n",
      "7505              NaN            more than 1 million                   NaN   \n",
      "9778              NaN  between 100,000 and 1 million                   NaN   \n",
      "16650             2.0            more than 1 million                   NaN   \n",
      "16997             1.0            more than 1 million                   NaN   \n",
      "17231             2.0              less than 100,000                   NaN   \n",
      "\n",
      "       CodeEventDjangoGirls          ...            YouTubeFunFunFunction  \\\n",
      "718                     NaN          ...                              NaN   \n",
      "1222                    NaN          ...                              NaN   \n",
      "3184                    NaN          ...                              NaN   \n",
      "3930                    NaN          ...                              1.0   \n",
      "6805                    NaN          ...                              NaN   \n",
      "7198                    NaN          ...                              NaN   \n",
      "7505                    NaN          ...                              NaN   \n",
      "9778                    NaN          ...                              NaN   \n",
      "16650                   NaN          ...                              NaN   \n",
      "16997                   NaN          ...                              NaN   \n",
      "17231                   NaN          ...                              NaN   \n",
      "\n",
      "       YouTubeGoogleDev  YouTubeLearnCode  YouTubeLevelUpTuts  YouTubeMIT  \\\n",
      "718                 NaN               NaN                 NaN         NaN   \n",
      "1222                NaN               1.0                 NaN         NaN   \n",
      "3184                NaN               NaN                 NaN         NaN   \n",
      "3930                1.0               1.0                 1.0         1.0   \n",
      "6805                NaN               NaN                 NaN         NaN   \n",
      "7198                1.0               1.0                 1.0         NaN   \n",
      "7505                NaN               NaN                 NaN         1.0   \n",
      "9778                NaN               NaN                 NaN         NaN   \n",
      "16650               NaN               NaN                 NaN         NaN   \n",
      "16997               NaN               NaN                 NaN         NaN   \n",
      "17231               NaN               NaN                 NaN         NaN   \n",
      "\n",
      "       YouTubeMozillaHacks                YouTubeOther YouTubeSimplilearn  \\\n",
      "718                    NaN                         NaN                NaN   \n",
      "1222                   NaN                         NaN                NaN   \n",
      "3184                   NaN                         NaN                NaN   \n",
      "3930                   NaN  various conf presentations                NaN   \n",
      "6805                   NaN                         NaN                NaN   \n",
      "7198                   NaN                         NaN                NaN   \n",
      "7505                   NaN                         NaN                NaN   \n",
      "9778                   NaN                         NaN                NaN   \n",
      "16650                  NaN                         NaN                NaN   \n",
      "16997                  NaN                         NaN                NaN   \n",
      "17231                  NaN                         NaN                NaN   \n",
      "\n",
      "       YouTubeTheNewBoston  Money Spent Per Month  \n",
      "718                    NaN            8000.000000  \n",
      "1222                   NaN            6500.000000  \n",
      "3184                   NaN            9000.000000  \n",
      "3930                   NaN           10833.333333  \n",
      "6805                   NaN           15000.000000  \n",
      "7198                   NaN           14000.000000  \n",
      "7505                   NaN            6666.666667  \n",
      "9778                   NaN            8000.000000  \n",
      "16650                  1.0           16666.666667  \n",
      "16997                  NaN           12500.000000  \n",
      "17231                  NaN           15000.000000  \n",
      "\n",
      "[11 rows x 137 columns]\n"
     ]
    },
    {
     "data": {
      "text/html": [
       "<div>\n",
       "<style scoped>\n",
       "    .dataframe tbody tr th:only-of-type {\n",
       "        vertical-align: middle;\n",
       "    }\n",
       "\n",
       "    .dataframe tbody tr th {\n",
       "        vertical-align: top;\n",
       "    }\n",
       "\n",
       "    .dataframe thead th {\n",
       "        text-align: right;\n",
       "    }\n",
       "</style>\n",
       "<table border=\"1\" class=\"dataframe\">\n",
       "  <thead>\n",
       "    <tr style=\"text-align: right;\">\n",
       "      <th></th>\n",
       "      <th>Age</th>\n",
       "      <th>AttendedBootcamp</th>\n",
       "      <th>BootcampFinish</th>\n",
       "      <th>BootcampLoanYesNo</th>\n",
       "      <th>BootcampName</th>\n",
       "      <th>BootcampRecommend</th>\n",
       "      <th>ChildrenNumber</th>\n",
       "      <th>CityPopulation</th>\n",
       "      <th>CodeEventConferences</th>\n",
       "      <th>CodeEventDjangoGirls</th>\n",
       "      <th>...</th>\n",
       "      <th>YouTubeFunFunFunction</th>\n",
       "      <th>YouTubeGoogleDev</th>\n",
       "      <th>YouTubeLearnCode</th>\n",
       "      <th>YouTubeLevelUpTuts</th>\n",
       "      <th>YouTubeMIT</th>\n",
       "      <th>YouTubeMozillaHacks</th>\n",
       "      <th>YouTubeOther</th>\n",
       "      <th>YouTubeSimplilearn</th>\n",
       "      <th>YouTubeTheNewBoston</th>\n",
       "      <th>Money Spent Per Month</th>\n",
       "    </tr>\n",
       "  </thead>\n",
       "  <tbody>\n",
       "    <tr>\n",
       "      <th>1</th>\n",
       "      <td>34.0</td>\n",
       "      <td>0.0</td>\n",
       "      <td>NaN</td>\n",
       "      <td>NaN</td>\n",
       "      <td>NaN</td>\n",
       "      <td>NaN</td>\n",
       "      <td>NaN</td>\n",
       "      <td>less than 100,000</td>\n",
       "      <td>NaN</td>\n",
       "      <td>NaN</td>\n",
       "      <td>...</td>\n",
       "      <td>NaN</td>\n",
       "      <td>NaN</td>\n",
       "      <td>NaN</td>\n",
       "      <td>NaN</td>\n",
       "      <td>NaN</td>\n",
       "      <td>NaN</td>\n",
       "      <td>NaN</td>\n",
       "      <td>NaN</td>\n",
       "      <td>NaN</td>\n",
       "      <td>13.333333</td>\n",
       "    </tr>\n",
       "    <tr>\n",
       "      <th>2</th>\n",
       "      <td>21.0</td>\n",
       "      <td>0.0</td>\n",
       "      <td>NaN</td>\n",
       "      <td>NaN</td>\n",
       "      <td>NaN</td>\n",
       "      <td>NaN</td>\n",
       "      <td>NaN</td>\n",
       "      <td>more than 1 million</td>\n",
       "      <td>NaN</td>\n",
       "      <td>NaN</td>\n",
       "      <td>...</td>\n",
       "      <td>NaN</td>\n",
       "      <td>NaN</td>\n",
       "      <td>1.0</td>\n",
       "      <td>1.0</td>\n",
       "      <td>NaN</td>\n",
       "      <td>NaN</td>\n",
       "      <td>NaN</td>\n",
       "      <td>NaN</td>\n",
       "      <td>NaN</td>\n",
       "      <td>200.000000</td>\n",
       "    </tr>\n",
       "    <tr>\n",
       "      <th>6</th>\n",
       "      <td>29.0</td>\n",
       "      <td>0.0</td>\n",
       "      <td>NaN</td>\n",
       "      <td>NaN</td>\n",
       "      <td>NaN</td>\n",
       "      <td>NaN</td>\n",
       "      <td>NaN</td>\n",
       "      <td>between 100,000 and 1 million</td>\n",
       "      <td>1.0</td>\n",
       "      <td>NaN</td>\n",
       "      <td>...</td>\n",
       "      <td>NaN</td>\n",
       "      <td>NaN</td>\n",
       "      <td>NaN</td>\n",
       "      <td>NaN</td>\n",
       "      <td>NaN</td>\n",
       "      <td>NaN</td>\n",
       "      <td>NaN</td>\n",
       "      <td>NaN</td>\n",
       "      <td>NaN</td>\n",
       "      <td>0.000000</td>\n",
       "    </tr>\n",
       "    <tr>\n",
       "      <th>15</th>\n",
       "      <td>32.0</td>\n",
       "      <td>0.0</td>\n",
       "      <td>NaN</td>\n",
       "      <td>NaN</td>\n",
       "      <td>NaN</td>\n",
       "      <td>NaN</td>\n",
       "      <td>NaN</td>\n",
       "      <td>less than 100,000</td>\n",
       "      <td>NaN</td>\n",
       "      <td>NaN</td>\n",
       "      <td>...</td>\n",
       "      <td>NaN</td>\n",
       "      <td>NaN</td>\n",
       "      <td>NaN</td>\n",
       "      <td>NaN</td>\n",
       "      <td>NaN</td>\n",
       "      <td>NaN</td>\n",
       "      <td>NaN</td>\n",
       "      <td>NaN</td>\n",
       "      <td>NaN</td>\n",
       "      <td>0.000000</td>\n",
       "    </tr>\n",
       "    <tr>\n",
       "      <th>16</th>\n",
       "      <td>29.0</td>\n",
       "      <td>0.0</td>\n",
       "      <td>NaN</td>\n",
       "      <td>NaN</td>\n",
       "      <td>NaN</td>\n",
       "      <td>NaN</td>\n",
       "      <td>NaN</td>\n",
       "      <td>between 100,000 and 1 million</td>\n",
       "      <td>NaN</td>\n",
       "      <td>NaN</td>\n",
       "      <td>...</td>\n",
       "      <td>1.0</td>\n",
       "      <td>NaN</td>\n",
       "      <td>NaN</td>\n",
       "      <td>NaN</td>\n",
       "      <td>NaN</td>\n",
       "      <td>NaN</td>\n",
       "      <td>NaN</td>\n",
       "      <td>NaN</td>\n",
       "      <td>1.0</td>\n",
       "      <td>16.666667</td>\n",
       "    </tr>\n",
       "  </tbody>\n",
       "</table>\n",
       "<p>5 rows × 137 columns</p>\n",
       "</div>"
      ],
      "text/plain": [
       "     Age  AttendedBootcamp  BootcampFinish  BootcampLoanYesNo BootcampName  \\\n",
       "1   34.0               0.0             NaN                NaN          NaN   \n",
       "2   21.0               0.0             NaN                NaN          NaN   \n",
       "6   29.0               0.0             NaN                NaN          NaN   \n",
       "15  32.0               0.0             NaN                NaN          NaN   \n",
       "16  29.0               0.0             NaN                NaN          NaN   \n",
       "\n",
       "    BootcampRecommend  ChildrenNumber                 CityPopulation  \\\n",
       "1                 NaN             NaN              less than 100,000   \n",
       "2                 NaN             NaN            more than 1 million   \n",
       "6                 NaN             NaN  between 100,000 and 1 million   \n",
       "15                NaN             NaN              less than 100,000   \n",
       "16                NaN             NaN  between 100,000 and 1 million   \n",
       "\n",
       "    CodeEventConferences  CodeEventDjangoGirls          ...            \\\n",
       "1                    NaN                   NaN          ...             \n",
       "2                    NaN                   NaN          ...             \n",
       "6                    1.0                   NaN          ...             \n",
       "15                   NaN                   NaN          ...             \n",
       "16                   NaN                   NaN          ...             \n",
       "\n",
       "    YouTubeFunFunFunction  YouTubeGoogleDev  YouTubeLearnCode  \\\n",
       "1                     NaN               NaN               NaN   \n",
       "2                     NaN               NaN               1.0   \n",
       "6                     NaN               NaN               NaN   \n",
       "15                    NaN               NaN               NaN   \n",
       "16                    1.0               NaN               NaN   \n",
       "\n",
       "    YouTubeLevelUpTuts  YouTubeMIT  YouTubeMozillaHacks  YouTubeOther  \\\n",
       "1                  NaN         NaN                  NaN           NaN   \n",
       "2                  1.0         NaN                  NaN           NaN   \n",
       "6                  NaN         NaN                  NaN           NaN   \n",
       "15                 NaN         NaN                  NaN           NaN   \n",
       "16                 NaN         NaN                  NaN           NaN   \n",
       "\n",
       "   YouTubeSimplilearn  YouTubeTheNewBoston  Money Spent Per Month  \n",
       "1                 NaN                  NaN              13.333333  \n",
       "2                 NaN                  NaN             200.000000  \n",
       "6                 NaN                  NaN               0.000000  \n",
       "15                NaN                  NaN               0.000000  \n",
       "16                NaN                  1.0              16.666667  \n",
       "\n",
       "[5 rows x 137 columns]"
      ]
     },
     "execution_count": 11,
     "metadata": {},
     "output_type": "execute_result"
    }
   ],
   "source": [
    "us_outliers = four_countries_updated[(four_countries_updated['CountryLive'] == 'United States of America') & (four_countries_updated['Money Spent Per Month'] > 6000)]\n",
    "print(us_outliers)\n",
    "four_countries_updated = four_countries_updated.drop(us_outliers.index)\n",
    "four_countries_updated.head()"
   ]
  },
  {
   "cell_type": "markdown",
   "metadata": {},
   "source": [
    "From viewing the 6 outliers from India and the 11 outliers from the US, it seems that 6 people attended bootcamps for the US and it's hard to tell for the other 5, very difficult to tell what they were spending their money on. I will filter out now people who spent greater than or equal to 6000, did not attend a bootcamp, and has three months or less of programming experience."
   ]
  },
  {
   "cell_type": "code",
   "execution_count": 12,
   "metadata": {
    "collapsed": false
   },
   "outputs": [
    {
     "data": {
      "text/html": [
       "<div>\n",
       "<style scoped>\n",
       "    .dataframe tbody tr th:only-of-type {\n",
       "        vertical-align: middle;\n",
       "    }\n",
       "\n",
       "    .dataframe tbody tr th {\n",
       "        vertical-align: top;\n",
       "    }\n",
       "\n",
       "    .dataframe thead th {\n",
       "        text-align: right;\n",
       "    }\n",
       "</style>\n",
       "<table border=\"1\" class=\"dataframe\">\n",
       "  <thead>\n",
       "    <tr style=\"text-align: right;\">\n",
       "      <th></th>\n",
       "      <th>Age</th>\n",
       "      <th>AttendedBootcamp</th>\n",
       "      <th>BootcampFinish</th>\n",
       "      <th>BootcampLoanYesNo</th>\n",
       "      <th>BootcampName</th>\n",
       "      <th>BootcampRecommend</th>\n",
       "      <th>ChildrenNumber</th>\n",
       "      <th>CityPopulation</th>\n",
       "      <th>CodeEventConferences</th>\n",
       "      <th>CodeEventDjangoGirls</th>\n",
       "      <th>...</th>\n",
       "      <th>YouTubeFunFunFunction</th>\n",
       "      <th>YouTubeGoogleDev</th>\n",
       "      <th>YouTubeLearnCode</th>\n",
       "      <th>YouTubeLevelUpTuts</th>\n",
       "      <th>YouTubeMIT</th>\n",
       "      <th>YouTubeMozillaHacks</th>\n",
       "      <th>YouTubeOther</th>\n",
       "      <th>YouTubeSimplilearn</th>\n",
       "      <th>YouTubeTheNewBoston</th>\n",
       "      <th>Money Spent Per Month</th>\n",
       "    </tr>\n",
       "  </thead>\n",
       "  <tbody>\n",
       "    <tr>\n",
       "      <th>13659</th>\n",
       "      <td>24.0</td>\n",
       "      <td>1.0</td>\n",
       "      <td>0.0</td>\n",
       "      <td>0.0</td>\n",
       "      <td>Bloc.io</td>\n",
       "      <td>1.0</td>\n",
       "      <td>NaN</td>\n",
       "      <td>more than 1 million</td>\n",
       "      <td>1.0</td>\n",
       "      <td>NaN</td>\n",
       "      <td>...</td>\n",
       "      <td>NaN</td>\n",
       "      <td>NaN</td>\n",
       "      <td>NaN</td>\n",
       "      <td>NaN</td>\n",
       "      <td>1.0</td>\n",
       "      <td>NaN</td>\n",
       "      <td>NaN</td>\n",
       "      <td>NaN</td>\n",
       "      <td>NaN</td>\n",
       "      <td>5000.0</td>\n",
       "    </tr>\n",
       "  </tbody>\n",
       "</table>\n",
       "<p>1 rows × 137 columns</p>\n",
       "</div>"
      ],
      "text/plain": [
       "        Age  AttendedBootcamp  BootcampFinish  BootcampLoanYesNo BootcampName  \\\n",
       "13659  24.0               1.0             0.0                0.0      Bloc.io   \n",
       "\n",
       "       BootcampRecommend  ChildrenNumber       CityPopulation  \\\n",
       "13659                1.0             NaN  more than 1 million   \n",
       "\n",
       "       CodeEventConferences  CodeEventDjangoGirls          ...            \\\n",
       "13659                   1.0                   NaN          ...             \n",
       "\n",
       "       YouTubeFunFunFunction  YouTubeGoogleDev  YouTubeLearnCode  \\\n",
       "13659                    NaN               NaN               NaN   \n",
       "\n",
       "       YouTubeLevelUpTuts  YouTubeMIT  YouTubeMozillaHacks  YouTubeOther  \\\n",
       "13659                 NaN         1.0                  NaN           NaN   \n",
       "\n",
       "      YouTubeSimplilearn  YouTubeTheNewBoston  Money Spent Per Month  \n",
       "13659                NaN                  NaN                 5000.0  \n",
       "\n",
       "[1 rows x 137 columns]"
      ]
     },
     "execution_count": 12,
     "metadata": {},
     "output_type": "execute_result"
    }
   ],
   "source": [
    "no_bootcamp = four_countries_updated[(four_countries_updated['CountryLive'] == 'United States of America') & (four_countries_updated['Money Spent Per Month'] >= 6000) & (four_countries_updated['AttendedBootcamp'] == 0)]\n",
    "four_countries_updated = four_countries_updated.drop(no_bootcamp.index)\n",
    "less_than_3_months_coding = four_countries_updated[(four_countries_updated['CountryLive'] == 'United States of America') & (four_countries_updated['Money Spent Per Month'] >= 6000) & (four_countries_updated['MonthsProgramming'] <= 3)]\n",
    "four_countries_updated = four_countries_updated.drop(less_than_3_months_coding.index)\n",
    "canada_outliers = four_countries_updated[(four_countries_updated['CountryLive'] == 'Canada') & (four_countries_updated['Money Spent Per Month'] > 4500)]\n",
    "canada_outliers\n"
   ]
  },
  {
   "cell_type": "markdown",
   "metadata": {},
   "source": [
    "After filtering through more of the data, I finally found that there is only one outlier for Canada. So, let me drop it from the dataframe, proceed to calculate the mean by country and recreate the boxplot."
   ]
  },
  {
   "cell_type": "code",
   "execution_count": 13,
   "metadata": {
    "collapsed": false
   },
   "outputs": [
    {
     "data": {
      "text/plain": [
       "CountryLive\n",
       "Canada                       93.065400\n",
       "India                        65.758763\n",
       "United Kingdom               45.534443\n",
       "United States of America    142.654608\n",
       "Name: Money Spent Per Month, dtype: float64"
      ]
     },
     "execution_count": 13,
     "metadata": {},
     "output_type": "execute_result"
    }
   ],
   "source": [
    "four_countries_updated = four_countries_updated.drop(canada_outliers.index)\n",
    "four_countries_updated.groupby('CountryLive').mean()['Money Spent Per Month']"
   ]
  },
  {
   "cell_type": "markdown",
   "metadata": {},
   "source": [
    "Now, let's proceed to make a boxplot of the data. "
   ]
  },
  {
   "cell_type": "code",
   "execution_count": 18,
   "metadata": {
    "collapsed": false
   },
   "outputs": [
    {
     "name": "stderr",
     "output_type": "stream",
     "text": [
      "/dataquest/system/env/python3/lib/python3.4/site-packages/seaborn/categorical.py:454: FutureWarning:\n",
      "\n",
      "remove_na is deprecated and is a private function. Do not use.\n",
      "\n"
     ]
    },
    {
     "data": {
      "image/png": "[encoded data removed]",
      "text/plain": [
       "<matplotlib.figure.Figure at 0x7f19299616d8>"
      ]
     },
     "metadata": {},
     "output_type": "display_data"
    }
   ],
   "source": [
    "import seaborn as sns\n",
    "sns.boxplot(x = 'CountryLive', y = 'Money Spent Per Month', data = four_countries_updated)\n",
    "plt.title('Money Spent Per Month Per Country', fontsize = 16)\n",
    "plt.xlabel('Country')\n",
    "plt.xticks(range(4),['US', 'UK', 'India', 'Canada'])\n",
    "plt.show()"
   ]
  },
  {
   "cell_type": "markdown",
   "metadata": {},
   "source": [
    "## Choosing the Two Best Markets"
   ]
  },
  {
   "cell_type": "markdown",
   "metadata": {},
   "source": [
    "As we can see in the table below, it seems that in the US, new coders who live there pay roughly about 143 dollars. I sell the program at 59 dollars, it is apparent that I should advertise in Canada, US and maybe India. However, I should not advertise in the UK because they pay roughly about 45 dollars. I will still check India though because it is a small difference in increase compared to the 59 dollar price."
   ]
  },
  {
   "cell_type": "raw",
   "metadata": {},
   "source": [
    "CountryLive\n",
    "Canada                       93.065400\n",
    "India                        65.758763\n",
    "United Kingdom               45.534443\n",
    "United States of America    142.654608\n",
    "Name: Money Spent Per Month, dtype: float64"
   ]
  },
  {
   "cell_type": "code",
   "execution_count": 19,
   "metadata": {
    "collapsed": false
   },
   "outputs": [
    {
     "data": {
      "text/plain": [
       "United States of America    74.967908\n",
       "India                       11.732991\n",
       "United Kingdom               7.163030\n",
       "Canada                       6.136072\n",
       "Name: CountryLive, dtype: float64"
      ]
     },
     "execution_count": 19,
     "metadata": {},
     "output_type": "execute_result"
    }
   ],
   "source": [
    "four_countries_updated['CountryLive'].value_counts(normalize = True) * 100"
   ]
  },
  {
   "cell_type": "markdown",
   "metadata": {},
   "source": [
    "From the analysis and table shown, the best two markets to advertise in are United States and India. However, it could also be US and Canada because India and canada are quite close to one another. "
   ]
  },
  {
   "cell_type": "markdown",
   "metadata": {},
   "source": [
    "## Conclusion"
   ]
  },
  {
   "cell_type": "markdown",
   "metadata": {},
   "source": [
    "In this project, I surveyed data from new coders to see which two markets are the best to advertise in. The only definitive answer was to advertise in the US for sure while the rest are a bit up in the air. "
   ]
  }
 ],
 "metadata": {
  "kernelspec": {
   "display_name": "Python 3",
   "language": "python",
   "name": "python3"
  },
  "language_info": {
   "codemirror_mode": {
    "name": "ipython",
    "version": 3
   },
   "file_extension": ".py",
   "mimetype": "text/x-python",
   "name": "python",
   "nbconvert_exporter": "python",
   "pygments_lexer": "ipython3",
   "version": "3.4.3"
  }
 },
 "nbformat": 4,
 "nbformat_minor": 2
}
