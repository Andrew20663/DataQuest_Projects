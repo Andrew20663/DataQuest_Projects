{
 "cells": [
  {
   "cell_type": "markdown",
   "metadata": {},
   "source": [
    "# Guided Project: Mobile App for Lottery Addiction"
   ]
  },
  {
   "cell_type": "markdown",
   "metadata": {
    "collapsed": true
   },
   "source": [
    "## Introduction"
   ]
  },
  {
   "cell_type": "markdown",
   "metadata": {},
   "source": [
    "For this particular project, a medical institute aims to prevent and treat gambling addictions by creating an app to help gamblers predict the lottery better. Therefore, in order to predict the lottery better, I will need to calculate probability values. There are certain questions that I will need to answer such as: \n",
    "    \n",
    "   1) What is the probability of winning the big prize with a single ticket? \n",
    "    \n",
    "   2) What is the probability of winning the big prize if we play 40 different \n",
    "       tickets? \n",
    "    \n",
    "   3) What is the probability of having at least five, four and etc winning \n",
    "       numbers on a single ticket? \n",
    "\n",
    "I will make two core functions, the factorial function and the combinatorics function to answer the questions.\n"
   ]
  },
  {
   "cell_type": "markdown",
   "metadata": {},
   "source": [
    "## Core Functions"
   ]
  },
  {
   "cell_type": "code",
   "execution_count": 1,
   "metadata": {
    "collapsed": false
   },
   "outputs": [],
   "source": [
    "def factorial(n):\n",
    "    final_product = 1\n",
    "    for n in range(n, 0, -1):\n",
    "        final_product *= n\n",
    "    return final_product\n",
    "\n",
    "def combinations(n,k):\n",
    "    numerator = factorial(n)\n",
    "    d_1 = factorial(n-k)\n",
    "    d_2 = factorial(k)\n",
    "    return (numerator / (d_1 * d_2))\n",
    "\n",
    "    \n",
    "\n",
    "        "
   ]
  },
  {
   "cell_type": "markdown",
   "metadata": {},
   "source": [
    "## One-ticket Probability"
   ]
  },
  {
   "cell_type": "markdown",
   "metadata": {},
   "source": [
    "I will now create a function called one_ticket_probability which will return the probability of winning from a list of 6 unique numbers. I will then show the results for one example to see if my function behaves correctly."
   ]
  },
  {
   "cell_type": "code",
   "execution_count": 5,
   "metadata": {
    "collapsed": false
   },
   "outputs": [
    {
     "name": "stdout",
     "output_type": "stream",
     "text": [
      "The probability of winning with the numbers [1, 2, 3, 4, 5, 6] is 0.0000072%\n"
     ]
    }
   ],
   "source": [
    "def one_ticket_probability(user_input): \n",
    "    outcomes = combinations(49, 6)\n",
    "    probability = (1/outcomes) * 100\n",
    "    print('The probability of winning with the numbers {} is {:.7f}%'.format(user_input, probability))\n",
    "\n",
    "one_ticket_probability([1,2,3,4,5,6])"
   ]
  },
  {
   "cell_type": "markdown",
   "metadata": {},
   "source": [
    "## Historical Data Check for Canada Lottery"
   ]
  },
  {
   "cell_type": "markdown",
   "metadata": {},
   "source": [
    "In the previous step the function, one_ticket_probability, informs users what the probability of winning is for the input of numbers. However, besides this though, most people would like to check their numbers against other numbers in the past. Therefore, this is the next step we must take. "
   ]
  },
  {
   "cell_type": "code",
   "execution_count": 7,
   "metadata": {
    "collapsed": false
   },
   "outputs": [
    {
     "name": "stdout",
     "output_type": "stream",
     "text": [
      "(3665, 11)\n",
      "   PRODUCT  DRAW NUMBER  SEQUENCE NUMBER  DRAW DATE  NUMBER DRAWN 1  \\\n",
      "0      649            1                0  6/12/1982               3   \n",
      "1      649            2                0  6/19/1982               8   \n",
      "2      649            3                0  6/26/1982               1   \n",
      "\n",
      "   NUMBER DRAWN 2  NUMBER DRAWN 3  NUMBER DRAWN 4  NUMBER DRAWN 5  \\\n",
      "0              11              12              14              41   \n",
      "1              33              36              37              39   \n",
      "2               6              23              24              27   \n",
      "\n",
      "   NUMBER DRAWN 6  BONUS NUMBER  \n",
      "0              43            13  \n",
      "1              41             9  \n",
      "2              39            34  \n",
      "\n",
      "\n",
      "      PRODUCT  DRAW NUMBER  SEQUENCE NUMBER  DRAW DATE  NUMBER DRAWN 1  \\\n",
      "3662      649         3589                0  6/13/2018               6   \n",
      "3663      649         3590                0  6/16/2018               2   \n",
      "3664      649         3591                0  6/20/2018              14   \n",
      "\n",
      "      NUMBER DRAWN 2  NUMBER DRAWN 3  NUMBER DRAWN 4  NUMBER DRAWN 5  \\\n",
      "3662              22              24              31              32   \n",
      "3663              15              21              31              38   \n",
      "3664              24              31              35              37   \n",
      "\n",
      "      NUMBER DRAWN 6  BONUS NUMBER  \n",
      "3662              34            16  \n",
      "3663              49             8  \n",
      "3664              48            17  \n"
     ]
    }
   ],
   "source": [
    "import pandas as pd \n",
    "df = pd.read_csv('649.csv', parse_dates = True)\n",
    "print(df.shape)\n",
    "print(df.head(3))\n",
    "print('\\n')\n",
    "print(df.tail(3))"
   ]
  },
  {
   "cell_type": "markdown",
   "metadata": {},
   "source": [
    "## Function for Historical Data Check "
   ]
  },
  {
   "cell_type": "markdown",
   "metadata": {},
   "source": [
    "For this particular part of the project, I will write two functions. The first function will allow me to extract the rows in the dataframe representing the past winning lottery numbers. Also, I will create a second function that checks the numbers a user inputs to that of the past historical winning numbers to see if the user did indeed win. "
   ]
  },
  {
   "cell_type": "code",
   "execution_count": 8,
   "metadata": {
    "collapsed": false
   },
   "outputs": [
    {
     "data": {
      "text/plain": [
       "0    {3, 41, 11, 12, 43, 14}\n",
       "1    {33, 36, 37, 39, 8, 41}\n",
       "2     {1, 6, 39, 23, 24, 27}\n",
       "3     {3, 9, 10, 43, 13, 20}\n",
       "4    {34, 5, 14, 47, 21, 31}\n",
       "dtype: object"
      ]
     },
     "execution_count": 8,
     "metadata": {},
     "output_type": "execute_result"
    }
   ],
   "source": [
    "def extract_numbers(input_list):\n",
    "    input_list = input_list[4:10]\n",
    "    input_list = set(input_list.values)\n",
    "    return input_list\n",
    "\n",
    "canada_lotto_numbers = df.apply(extract_numbers, axis = 1)\n",
    "canada_lotto_numbers.head()"
   ]
  },
  {
   "cell_type": "code",
   "execution_count": 24,
   "metadata": {
    "collapsed": false
   },
   "outputs": [
    {
     "name": "stdout",
     "output_type": "stream",
     "text": [
      "The numbers [1, 2, 3, 4, 5, 6] have never occurred.\n",
      "The numbers [33, 36, 37, 39, 8, 41] occurred 1 time(s).\n"
     ]
    }
   ],
   "source": [
    "def check_historical_occurrence(input_list, historical_data):\n",
    "    set_input_list = set(input_list)\n",
    "    check = set_input_list == historical_data\n",
    "    number_of_occurrences = check.sum()\n",
    "    if number_of_occurrences == 0: \n",
    "        print(\"The numbers {} have never occurred.\".format(input_list, input_list))\n",
    "    else: \n",
    "        print(\"The numbers {} occurred {} time(s).\".format(input_list, number_of_occurrences))\n",
    "\n",
    "test_input_3 = [1,2,3,4,5,6]\n",
    "test_input_4 = [33, 36, 37, 39, 8, 41]\n",
    "check_historical_occurrence(test_input_3, canada_lotto_numbers)\n",
    "check_historical_occurrence(test_input_4, canada_lotto_numbers)"
   ]
  },
  {
   "cell_type": "markdown",
   "metadata": {},
   "source": [
    "Throughout this project, I created two functions called one_ticket_probability and check_historical_occurrence. One_ticket_probability calculates the probability of winning the big prize with a single ticket. Check_historical_occurrence checks whether a certain combination has occurred in the Canada lottery data set. Since lottery addicts play more than one ticket, I will help them better estimate their chances of winning. I will write a new function to allow users to calculate the chances of winning for any number of different tickets."
   ]
  },
  {
   "cell_type": "markdown",
   "metadata": {},
   "source": [
    "## Multi-ticket Probability"
   ]
  },
  {
   "cell_type": "code",
   "execution_count": 33,
   "metadata": {
    "collapsed": false
   },
   "outputs": [],
   "source": [
    "def multi_ticket_probability(number_of_tickets):\n",
    "    number_of_combinations = combinations(49,6)\n",
    "    probability = number_of_tickets / number_of_combinations\n",
    "    percentage = 100 * probability\n",
    "    if number_of_tickets == 1:\n",
    "        print(\"The chances of winning are {:.6f}%\".format(percentage))\n",
    "    else: \n",
    "        combos = round(number_of_combinations / number_of_tickets)\n",
    "        print(\"The chances of winning are {:.6f}%\".format(percentage))\n",
    "        "
   ]
  },
  {
   "cell_type": "code",
   "execution_count": 35,
   "metadata": {
    "collapsed": false
   },
   "outputs": [
    {
     "name": "stdout",
     "output_type": "stream",
     "text": [
      "The chances of winning are 0.000007%\n",
      "-----------------------------------------------------\n",
      "The chances of winning are 0.000072%\n",
      "-----------------------------------------------------\n",
      "The chances of winning are 0.000715%\n",
      "-----------------------------------------------------\n",
      "The chances of winning are 0.071511%\n",
      "-----------------------------------------------------\n",
      "The chances of winning are 7.151124%\n",
      "-----------------------------------------------------\n",
      "The chances of winning are 50.000000%\n",
      "-----------------------------------------------------\n",
      "The chances of winning are 100.000000%\n",
      "-----------------------------------------------------\n"
     ]
    }
   ],
   "source": [
    "test_inputs = [1, 10, 100, 10000, 1000000, 6991908, 13983816]\n",
    "for test_input in test_inputs: \n",
    "    multi_ticket_probability(test_input)\n",
    "    print('-----------------------------------------------------')"
   ]
  },
  {
   "cell_type": "markdown",
   "metadata": {},
   "source": [
    "## Less Winning Numbers Function"
   ]
  },
  {
   "cell_type": "markdown",
   "metadata": {
    "collapsed": true
   },
   "source": [
    "Throughout the project, I have written three main functions: \n",
    "    \n",
    "  1) one_ticket_probability\n",
    "  \n",
    "  2) check_historical occurrence\n",
    "  \n",
    "  3) multi_ticket_probability\n",
    "\n",
    "The last part is to write one more function to allow people to calculate probabilites for two, three or four winning numbers. The reason I will do this is because people can still win a prize even if they cannot get all the matching numbers. "
   ]
  },
  {
   "cell_type": "code",
   "execution_count": 39,
   "metadata": {
    "collapsed": true
   },
   "outputs": [],
   "source": [
    "def probability_less_6(winning_numbers):\n",
    "    n_combos_tickets = combinations(6, winning_numbers)\n",
    "    n_remaining_combos = combinations(43, 6 - winning_numbers)\n",
    "    successful = n_combos_tickets * n_remaining_combos\n",
    "    \n",
    "    n_total_combos = combinations(49, 6)\n",
    "    prob = successful / n_total_combos\n",
    "    \n",
    "    percentage = 100 * prob\n",
    "    rounded_combos = round(n_total_combos / successful)\n",
    "    \n",
    "    print(\"The chances of having {} is {:.6f}%\".format(winning_numbers, percentage))\n",
    "    "
   ]
  },
  {
   "cell_type": "code",
   "execution_count": 40,
   "metadata": {
    "collapsed": false
   },
   "outputs": [
    {
     "name": "stdout",
     "output_type": "stream",
     "text": [
      "The chances of having 2 is 13.237803%\n",
      "-------------------------------------------\n",
      "The chances of having 3 is 1.765040%\n",
      "-------------------------------------------\n",
      "The chances of having 4 is 0.096862%\n",
      "-------------------------------------------\n",
      "The chances of having 5 is 0.001845%\n",
      "-------------------------------------------\n"
     ]
    }
   ],
   "source": [
    "for test in [2,3,4,5]:\n",
    "    probability_less_6(test)\n",
    "    print('-------------------------------------------')"
   ]
  },
  {
   "cell_type": "markdown",
   "metadata": {},
   "source": [
    "## Next Steps "
   ]
  },
  {
   "cell_type": "markdown",
   "metadata": {},
   "source": [
    "Throughout this project, I created four functions: \n",
    "    \n",
    "   1) one_ticket_probability: Calculates the probability of winning the big \n",
    "      prize with a single ticket.\n",
    "    \n",
    "   2) check_historical_occurrence: Checks whether a certain combination has \n",
    "      occurred in the Canada lottery data set. \n",
    "      \n",
    "   3) multi_ticket_probability: Calculates the probability for any number of \n",
    "      tickets between 1 and 13,983,816.\n",
    "     \n",
    "   4) probability_less_6: Calculates the probability of having two, three, four \n",
    "      or five winning numbers. \n",
    "\n",
    "This is for the first version of the app and there could be improvements that could be made for the second app. "
   ]
  }
 ],
 "metadata": {
  "kernelspec": {
   "display_name": "Python 3",
   "language": "python",
   "name": "python3"
  },
  "language_info": {
   "codemirror_mode": {
    "name": "ipython",
    "version": 3
   },
   "file_extension": ".py",
   "mimetype": "text/x-python",
   "name": "python",
   "nbconvert_exporter": "python",
   "pygments_lexer": "ipython3",
   "version": "3.4.3"
  }
 },
 "nbformat": 4,
 "nbformat_minor": 2
}
