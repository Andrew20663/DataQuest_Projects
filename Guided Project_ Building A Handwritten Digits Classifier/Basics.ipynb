{
 "cells": [
  {
   "cell_type": "markdown",
   "metadata": {
    "collapsed": true
   },
   "source": [
    "# Guided Project: Building A Handwritten Digits Classifier"
   ]
  },
  {
   "cell_type": "markdown",
   "metadata": {},
   "source": [
    "## Introduction "
   ]
  },
  {
   "cell_type": "markdown",
   "metadata": {
    "collapsed": true
   },
   "source": [
    "For this particular project I will accomplish a few tasks in mind: \n",
    "\n",
    "   1) Explore why image classification is a hard task.\n",
    "   \n",
    "   2) Observe the limitations of traditional machine learning models for image \n",
    "      classification.\n",
    "    \n",
    "   3) Train, test and improve a few different deep neural networks for image \n",
    "      classification.\n",
    "      \n",
    "In the lesson from Dataquest, deep neural networks are used to reach state-of-the-art performance on image classification. In some of the image classifcation tasks, deep neural networks can perform the same or better than a human. However, even though deep neural networks can achieve a very accurate image classification, it is actually a very difficult task. There are a few reasons as to why this is difficult: \n",
    "\n",
    "   1) Each image in a training set is high dimensional and each pixel in the \n",
    "      image is a feature and a separate column. For example, a 128x128 image has \n",
    "      16,384 features. \n",
    "\n",
    "   2) The images are downsampled to a lower resolution and changed to a \n",
    "       grayscale due to the computational power it takes when kept at its \n",
    "       regular resolution. Therefore, there is sometimes a loss in the detail \n",
    "       when training and matching the patterns. \n",
    "       \n",
    "   3) The features in an image don't have an obvious linear/non-linear \n",
    "      relationship that can be learned with models such as linear or \n",
    "      logistic regression. \n",
    "      \n",
    "Essentially, deep learning is effective in image classification because of the model's ability to learn hierarchical representations. An effective deep learning model can learn intermediate representations at each layer in the model and can use them when predicting. "
   ]
  },
  {
   "cell_type": "code",
   "execution_count": 1,
   "metadata": {
    "collapsed": false
   },
   "outputs": [
    {
     "name": "stdout",
     "output_type": "stream",
     "text": [
      "dict_keys(['images', 'target_names', 'data', 'DESCR', 'target'])\n"
     ]
    },
    {
     "data": {
      "text/html": [
       "<div>\n",
       "<style scoped>\n",
       "    .dataframe tbody tr th:only-of-type {\n",
       "        vertical-align: middle;\n",
       "    }\n",
       "\n",
       "    .dataframe tbody tr th {\n",
       "        vertical-align: top;\n",
       "    }\n",
       "\n",
       "    .dataframe thead th {\n",
       "        text-align: right;\n",
       "    }\n",
       "</style>\n",
       "<table border=\"1\" class=\"dataframe\">\n",
       "  <thead>\n",
       "    <tr style=\"text-align: right;\">\n",
       "      <th></th>\n",
       "      <th>0</th>\n",
       "      <th>1</th>\n",
       "      <th>2</th>\n",
       "      <th>3</th>\n",
       "      <th>4</th>\n",
       "      <th>5</th>\n",
       "      <th>6</th>\n",
       "      <th>7</th>\n",
       "      <th>8</th>\n",
       "      <th>9</th>\n",
       "      <th>...</th>\n",
       "      <th>54</th>\n",
       "      <th>55</th>\n",
       "      <th>56</th>\n",
       "      <th>57</th>\n",
       "      <th>58</th>\n",
       "      <th>59</th>\n",
       "      <th>60</th>\n",
       "      <th>61</th>\n",
       "      <th>62</th>\n",
       "      <th>63</th>\n",
       "    </tr>\n",
       "  </thead>\n",
       "  <tbody>\n",
       "    <tr>\n",
       "      <th>0</th>\n",
       "      <td>0.0</td>\n",
       "      <td>0.0</td>\n",
       "      <td>5.0</td>\n",
       "      <td>13.0</td>\n",
       "      <td>9.0</td>\n",
       "      <td>1.0</td>\n",
       "      <td>0.0</td>\n",
       "      <td>0.0</td>\n",
       "      <td>0.0</td>\n",
       "      <td>0.0</td>\n",
       "      <td>...</td>\n",
       "      <td>0.0</td>\n",
       "      <td>0.0</td>\n",
       "      <td>0.0</td>\n",
       "      <td>0.0</td>\n",
       "      <td>6.0</td>\n",
       "      <td>13.0</td>\n",
       "      <td>10.0</td>\n",
       "      <td>0.0</td>\n",
       "      <td>0.0</td>\n",
       "      <td>0.0</td>\n",
       "    </tr>\n",
       "    <tr>\n",
       "      <th>1</th>\n",
       "      <td>0.0</td>\n",
       "      <td>0.0</td>\n",
       "      <td>0.0</td>\n",
       "      <td>12.0</td>\n",
       "      <td>13.0</td>\n",
       "      <td>5.0</td>\n",
       "      <td>0.0</td>\n",
       "      <td>0.0</td>\n",
       "      <td>0.0</td>\n",
       "      <td>0.0</td>\n",
       "      <td>...</td>\n",
       "      <td>0.0</td>\n",
       "      <td>0.0</td>\n",
       "      <td>0.0</td>\n",
       "      <td>0.0</td>\n",
       "      <td>0.0</td>\n",
       "      <td>11.0</td>\n",
       "      <td>16.0</td>\n",
       "      <td>10.0</td>\n",
       "      <td>0.0</td>\n",
       "      <td>0.0</td>\n",
       "    </tr>\n",
       "    <tr>\n",
       "      <th>2</th>\n",
       "      <td>0.0</td>\n",
       "      <td>0.0</td>\n",
       "      <td>0.0</td>\n",
       "      <td>4.0</td>\n",
       "      <td>15.0</td>\n",
       "      <td>12.0</td>\n",
       "      <td>0.0</td>\n",
       "      <td>0.0</td>\n",
       "      <td>0.0</td>\n",
       "      <td>0.0</td>\n",
       "      <td>...</td>\n",
       "      <td>5.0</td>\n",
       "      <td>0.0</td>\n",
       "      <td>0.0</td>\n",
       "      <td>0.0</td>\n",
       "      <td>0.0</td>\n",
       "      <td>3.0</td>\n",
       "      <td>11.0</td>\n",
       "      <td>16.0</td>\n",
       "      <td>9.0</td>\n",
       "      <td>0.0</td>\n",
       "    </tr>\n",
       "    <tr>\n",
       "      <th>3</th>\n",
       "      <td>0.0</td>\n",
       "      <td>0.0</td>\n",
       "      <td>7.0</td>\n",
       "      <td>15.0</td>\n",
       "      <td>13.0</td>\n",
       "      <td>1.0</td>\n",
       "      <td>0.0</td>\n",
       "      <td>0.0</td>\n",
       "      <td>0.0</td>\n",
       "      <td>8.0</td>\n",
       "      <td>...</td>\n",
       "      <td>9.0</td>\n",
       "      <td>0.0</td>\n",
       "      <td>0.0</td>\n",
       "      <td>0.0</td>\n",
       "      <td>7.0</td>\n",
       "      <td>13.0</td>\n",
       "      <td>13.0</td>\n",
       "      <td>9.0</td>\n",
       "      <td>0.0</td>\n",
       "      <td>0.0</td>\n",
       "    </tr>\n",
       "    <tr>\n",
       "      <th>4</th>\n",
       "      <td>0.0</td>\n",
       "      <td>0.0</td>\n",
       "      <td>0.0</td>\n",
       "      <td>1.0</td>\n",
       "      <td>11.0</td>\n",
       "      <td>0.0</td>\n",
       "      <td>0.0</td>\n",
       "      <td>0.0</td>\n",
       "      <td>0.0</td>\n",
       "      <td>0.0</td>\n",
       "      <td>...</td>\n",
       "      <td>0.0</td>\n",
       "      <td>0.0</td>\n",
       "      <td>0.0</td>\n",
       "      <td>0.0</td>\n",
       "      <td>0.0</td>\n",
       "      <td>2.0</td>\n",
       "      <td>16.0</td>\n",
       "      <td>4.0</td>\n",
       "      <td>0.0</td>\n",
       "      <td>0.0</td>\n",
       "    </tr>\n",
       "  </tbody>\n",
       "</table>\n",
       "<p>5 rows × 64 columns</p>\n",
       "</div>"
      ],
      "text/plain": [
       "    0    1    2     3     4     5    6    7    8    9  ...    54   55   56  \\\n",
       "0  0.0  0.0  5.0  13.0   9.0   1.0  0.0  0.0  0.0  0.0 ...   0.0  0.0  0.0   \n",
       "1  0.0  0.0  0.0  12.0  13.0   5.0  0.0  0.0  0.0  0.0 ...   0.0  0.0  0.0   \n",
       "2  0.0  0.0  0.0   4.0  15.0  12.0  0.0  0.0  0.0  0.0 ...   5.0  0.0  0.0   \n",
       "3  0.0  0.0  7.0  15.0  13.0   1.0  0.0  0.0  0.0  8.0 ...   9.0  0.0  0.0   \n",
       "4  0.0  0.0  0.0   1.0  11.0   0.0  0.0  0.0  0.0  0.0 ...   0.0  0.0  0.0   \n",
       "\n",
       "    57   58    59    60    61   62   63  \n",
       "0  0.0  6.0  13.0  10.0   0.0  0.0  0.0  \n",
       "1  0.0  0.0  11.0  16.0  10.0  0.0  0.0  \n",
       "2  0.0  0.0   3.0  11.0  16.0  9.0  0.0  \n",
       "3  0.0  7.0  13.0  13.0   9.0  0.0  0.0  \n",
       "4  0.0  0.0   2.0  16.0   4.0  0.0  0.0  \n",
       "\n",
       "[5 rows x 64 columns]"
      ]
     },
     "execution_count": 1,
     "metadata": {},
     "output_type": "execute_result"
    }
   ],
   "source": [
    "from sklearn.datasets import load_digits\n",
    "import pandas as pd\n",
    "import matplotlib.pyplot as plt\n",
    "import numpy as np\n",
    "%matplotlib inline\n",
    "\n",
    "digits = load_digits()\n",
    "print(digits.keys())\n",
    "labels = pd.Series(digits['target'])\n",
    "digits = pd.DataFrame(digits['data'])\n",
    "digits.head()"
   ]
  },
  {
   "cell_type": "code",
   "execution_count": 2,
   "metadata": {
    "collapsed": false
   },
   "outputs": [
    {
     "data": {
      "text/plain": [
       "<matplotlib.image.AxesImage at 0x7f69fbaa7550>"
      ]
     },
     "execution_count": 2,
     "metadata": {},
     "output_type": "execute_result"
    },
    {
     "data": {
      "image/png": "[encoded data removed]",
      "text/plain": [
       "<matplotlib.figure.Figure at 0x7f6a50358828>"
      ]
     },
     "metadata": {},
     "output_type": "display_data"
    }
   ],
   "source": [
    "first_image = digits.iloc[0]\n",
    "np_image = first_image.values\n",
    "np_image = np_image.reshape(8, 8)\n",
    "plt.imshow(np_image, cmap = 'gray_r')"
   ]
  },
  {
   "cell_type": "code",
   "execution_count": 3,
   "metadata": {
    "collapsed": false
   },
   "outputs": [
    {
     "data": {
      "text/plain": [
       "<matplotlib.image.AxesImage at 0x7f69f98c6e10>"
      ]
     },
     "execution_count": 3,
     "metadata": {},
     "output_type": "execute_result"
    },
    {
     "data": {
      "image/png": "[encoded data removed]",
      "text/plain": [
       "<matplotlib.figure.Figure at 0x7f69fb9a9f28>"
      ]
     },
     "metadata": {},
     "output_type": "display_data"
    }
   ],
   "source": [
    "f, axarr = plt.subplots(2,4)\n",
    "axarr[0,0].imshow(digits.iloc[0].values.reshape(8,8), cmap = 'gray_r')\n",
    "axarr[0,1].imshow(digits.iloc[0].values.reshape(8,8), cmap = 'gray_r')\n",
    "axarr[0,2].imshow(digits.iloc[0].values.reshape(8,8), cmap = 'gray_r')\n",
    "axarr[0,3].imshow(digits.iloc[0].values.reshape(8,8), cmap = 'gray_r')\n",
    "\n",
    "axarr[1,0].imshow(digits.iloc[1].values.reshape(8,8), cmap = 'gray_r')\n",
    "axarr[1,1].imshow(digits.iloc[1].values.reshape(8,8), cmap = 'gray_r')\n",
    "axarr[1,2].imshow(digits.iloc[1].values.reshape(8,8), cmap = 'gray_r')\n",
    "axarr[1,3].imshow(digits.iloc[1].values.reshape(8,8), cmap = 'gray_r')\n"
   ]
  },
  {
   "cell_type": "markdown",
   "metadata": {},
   "source": [
    "## K-Nearest Neighbors Model "
   ]
  },
  {
   "cell_type": "markdown",
   "metadata": {},
   "source": [
    "Although linear and logistic regression models make assumptions about the linearity between both the features and output labels, k-nearest neighbors algorithm makes no such assumption. Therefore, k-nearest neighbors doesn't have a specific model representation. \n",
    "\n",
    "The k-nearest neighbors algorithm compares all seen observations in the test set to all other training observations in a constrained space. The algorithm then finds the label with the most nearby observations and assigns the prediction for the unseen observations. "
   ]
  },
  {
   "cell_type": "code",
   "execution_count": 4,
   "metadata": {
    "collapsed": false
   },
   "outputs": [
    {
     "data": {
      "text/plain": [
       "0.9677233358079684"
      ]
     },
     "execution_count": 4,
     "metadata": {},
     "output_type": "execute_result"
    }
   ],
   "source": [
    "from sklearn.neighbors import KNeighborsClassifier\n",
    "from sklearn.model_selection import KFold\n",
    "import pandas as pd\n",
    "\n",
    "def train(nneighbors, train_features, train_labels):\n",
    "    knn = KNeighborsClassifier(n_neighbors = nneighbors)\n",
    "    knn.fit(train_features, train_labels)\n",
    "    return knn\n",
    "    \n",
    "def test(model, test_features, test_labels):\n",
    "    prediction = model.predict(test_features)\n",
    "    train_test_df = pd.DataFrame()\n",
    "    train_test_df['actual'] = test_labels\n",
    "    train_test_df['predicted'] = prediction\n",
    "    accuracy = sum(train_test_df['predicted'] == train_test_df['actual'])/len(train_test_df)\n",
    "    return accuracy\n",
    "\n",
    "def cross_validate(k):\n",
    "    fold_accuracy = []\n",
    "    kf = KFold(n_splits = 4, random_state = 2)\n",
    "    for train_index, test_index in kf.split(digits):\n",
    "        train_features, test_features = digits.loc[train_index], digits.loc[test_index]\n",
    "        train_labels, test_labels = labels.loc[train_index], labels.loc[test_index]\n",
    "        model = train(k, train_features, train_labels)\n",
    "        accuracy = test(model, test_features, test_labels)\n",
    "        fold_accuracy.append(accuracy)\n",
    "    return fold_accuracy\n",
    "\n",
    "knn_1 = cross_validate(1)\n",
    "np.mean(knn_1)\n",
    "    \n",
    "        \n",
    "    \n",
    "                              \n",
    "    \n"
   ]
  },
  {
   "cell_type": "code",
   "execution_count": 5,
   "metadata": {
    "collapsed": false
   },
   "outputs": [
    {
     "data": {
      "text/plain": [
       "[<matplotlib.lines.Line2D at 0x7f6a503586d8>]"
      ]
     },
     "execution_count": 5,
     "metadata": {},
     "output_type": "execute_result"
    },
    {
     "data": {
      "image/png": "[encoded data removed]",
      "text/plain": [
       "<matplotlib.figure.Figure at 0x7f69f7fb4898>"
      ]
     },
     "metadata": {},
     "output_type": "display_data"
    }
   ],
   "source": [
    "values = list(range(1,20))\n",
    "\n",
    "accuracy_values = []\n",
    "for k in values: \n",
    "    accuracy = cross_validate(k)\n",
    "    average = np.mean(accuracy)\n",
    "    accuracy_values.append(average)\n",
    "\n",
    "plt.figure(figsize=(10,5))\n",
    "plt.title('K values vs. Accuracy')\n",
    "plt.plot(values, accuracy_values)\n",
    "\n",
    "        "
   ]
  },
  {
   "cell_type": "markdown",
   "metadata": {},
   "source": [
    "## Neural Network With One Hidden Layer"
   ]
  },
  {
   "cell_type": "markdown",
   "metadata": {
    "collapsed": true
   },
   "source": [
    "Even though K-nearest neighbors seems like a good model at first since it doesn't depend on linearity between features and labels, there are potential downsides to it. The two downsides are: \n",
    "    \n",
    "   1) High Memory usage \n",
    "   \n",
    "   2) No model representation \n",
    "   \n",
    "Instead of a K-nearest neighbors algorithm, I will implement a neural network with one hidden layer. "
   ]
  },
  {
   "cell_type": "code",
   "execution_count": 6,
   "metadata": {
    "collapsed": false
   },
   "outputs": [
    {
     "name": "stderr",
     "output_type": "stream",
     "text": [
      "/dataquest/system/env/python3/lib/python3.4/site-packages/sklearn/neural_network/multilayer_perceptron.py:563: ConvergenceWarning:\n",
      "\n",
      "Stochastic Optimizer: Maximum iterations reached and the optimization hasn't converged yet.\n",
      "\n"
     ]
    },
    {
     "data": {
      "text/plain": [
       "[0.8519475377381837,\n",
       " 0.9337713437268003,\n",
       " 0.936003464488988,\n",
       " 0.9398960653303639,\n",
       " 0.9465701559020044,\n",
       " 0.9543677307597129]"
      ]
     },
     "execution_count": 6,
     "metadata": {},
     "output_type": "execute_result"
    },
    {
     "data": {
      "image/png": "[encoded data removed]",
      "text/plain": [
       "<matplotlib.figure.Figure at 0x7f69f7f01c50>"
      ]
     },
     "metadata": {},
     "output_type": "display_data"
    }
   ],
   "source": [
    "from sklearn.neural_network import MLPClassifier\n",
    "from sklearn.model_selection import KFold \n",
    "import pandas as pd\n",
    "\n",
    "def train_neural_network(neuron, train_features, train_labels):\n",
    "    mlp = MLPClassifier(hidden_layer_sizes = neuron)\n",
    "    mlp.fit(train_features, train_labels)\n",
    "    return mlp\n",
    "\n",
    "def test_neural_network(model, test_features, test_labels):\n",
    "    prediction = model.predict(test_features)\n",
    "    train_test_df = pd.DataFrame()\n",
    "    train_test_df['actual'] = test_labels \n",
    "    train_test_df['predicted'] = prediction\n",
    "    accuracy = sum(train_test_df['actual'] == train_test_df['predicted']) / len(train_test_df)\n",
    "    return accuracy \n",
    "\n",
    "def cross_validation(neuron):\n",
    "    kf = KFold(n_splits = 4, random_state = 2)\n",
    "    accuracy_values = []\n",
    "    for train_index, test_index in kf.split(digits):\n",
    "        train_features, test_features = digits.loc[train_index], digits.loc[test_index]\n",
    "        train_labels, test_labels = labels.loc[train_index], labels.loc[test_index]\n",
    "        model = train_neural_network(neuron, train_features, train_labels)\n",
    "        accuracy = test_neural_network(model, test_features, test_labels)\n",
    "        accuracy_values.append(accuracy)\n",
    "    return accuracy_values\n",
    "\n",
    "neurons = [(8,), (16,), (32,), (64,), (128,), (256,)]\n",
    "accuracy_list = []\n",
    "\n",
    "for n in neurons: \n",
    "    accr = cross_validation(n)\n",
    "    mean_accr = np.mean(accr)\n",
    "    accuracy_list.append(mean_accr)\n",
    "\n",
    "x = [i[0] for i in neurons]\n",
    "plt.title('Neural Network with 1 Hidden Layer vs. Accuracy')\n",
    "plt.plot(x, accuracy_list)\n",
    "accuracy_list\n",
    "    \n",
    "        "
   ]
  },
  {
   "cell_type": "markdown",
   "metadata": {},
   "source": [
    "As seen in the graph, adding more neurons to a single hidden layer improved the classification accuracy. I will now try two hidden layers. "
   ]
  },
  {
   "cell_type": "markdown",
   "metadata": {},
   "source": [
    "## Neural Network With Two Hidden Layers"
   ]
  },
  {
   "cell_type": "code",
   "execution_count": 7,
   "metadata": {
    "collapsed": false
   },
   "outputs": [
    {
     "data": {
      "text/plain": [
       "[0.9421306607275427, 0.9560331601088838, 0.9549232863152686]"
      ]
     },
     "execution_count": 7,
     "metadata": {},
     "output_type": "execute_result"
    },
    {
     "data": {
      "image/png": "[encoded data removed]",
      "text/plain": [
       "<matplotlib.figure.Figure at 0x7f69f7ef6320>"
      ]
     },
     "metadata": {},
     "output_type": "display_data"
    }
   ],
   "source": [
    "neurons = [(64,64), (128, 128), (256, 256)]\n",
    "accurate_listings = []\n",
    "for n in neurons: \n",
    "    accuracy = cross_validation(n)\n",
    "    average = np.mean(accuracy)\n",
    "    accurate_listings.append(average)\n",
    "    \n",
    "x = [i[0] for i in neurons]\n",
    "plt.title('Neural Network with 2 Hidden Layers vs. Accuracy')\n",
    "plt.plot(x, accurate_listings)\n",
    "accurate_listings"
   ]
  },
  {
   "cell_type": "markdown",
   "metadata": {},
   "source": [
    "When using a neural network, overfitting tends to happen when the number of layers are increased. To counteract this, I will increase the number of folds in K-Fold cross validation to 6 and try a three hidden layer neural network. "
   ]
  },
  {
   "cell_type": "markdown",
   "metadata": {},
   "source": [
    "## Neural Network with Three Hidden Layers "
   ]
  },
  {
   "cell_type": "code",
   "execution_count": 8,
   "metadata": {
    "collapsed": false
   },
   "outputs": [
    {
     "name": "stderr",
     "output_type": "stream",
     "text": [
      "/dataquest/system/env/python3/lib/python3.4/site-packages/sklearn/neural_network/multilayer_perceptron.py:563: ConvergenceWarning:\n",
      "\n",
      "Stochastic Optimizer: Maximum iterations reached and the optimization hasn't converged yet.\n",
      "\n"
     ]
    },
    {
     "data": {
      "text/plain": [
       "[0.8848216276477147, 0.9499182460052026, 0.9582590115198811]"
      ]
     },
     "execution_count": 8,
     "metadata": {},
     "output_type": "execute_result"
    },
    {
     "data": {
      "image/png": "[encoded data removed]",
      "text/plain": [
       "<matplotlib.figure.Figure at 0x7f69f7e58da0>"
      ]
     },
     "metadata": {},
     "output_type": "display_data"
    }
   ],
   "source": [
    "from sklearn.neural_network import MLPClassifier\n",
    "from sklearn.model_selection import KFold \n",
    "import pandas as pd\n",
    "\n",
    "def train_neural_network_six_hidden_layers(neuron, train_features, train_labels):\n",
    "    mlp = MLPClassifier(hidden_layer_sizes = neuron)\n",
    "    mlp.fit(train_features, train_labels)\n",
    "    return mlp\n",
    "\n",
    "def test_neural_network_six_hidden_layers(model, test_features, test_labels):\n",
    "    prediction = model.predict(test_features)\n",
    "    train_test_df = pd.DataFrame()\n",
    "    train_test_df['actual'] = test_labels \n",
    "    train_test_df['predicted'] = prediction\n",
    "    accuracy = sum(train_test_df['actual'] == train_test_df['predicted']) / len(train_test_df)\n",
    "    return accuracy \n",
    "\n",
    "def cross_validation_six_hidden_layers(neuron):\n",
    "    kf = KFold(n_splits = 6, random_state = 2)\n",
    "    accuracy_values_6 = []\n",
    "    for train_index, test_index in kf.split(digits):\n",
    "        train_features, test_features = digits.loc[train_index], digits.loc[test_index]\n",
    "        train_labels, test_labels = labels.loc[train_index], labels.loc[test_index]\n",
    "        model = train_neural_network_six_hidden_layers(neuron, train_features, train_labels)\n",
    "        accuracy = test_neural_network_six_hidden_layers(model, test_features, test_labels)\n",
    "        accuracy_values_6.append(accuracy)\n",
    "    return accuracy_values_6\n",
    "\n",
    "neurons_3 = [(10,10,10), (128,128,128), (256,256,256)]\n",
    "accuracy_list_6 = []\n",
    "\n",
    "for n in neurons_3: \n",
    "    accr = cross_validation_six_hidden_layers(n)\n",
    "    mean_accr = np.mean(accr)\n",
    "    accuracy_list_6.append(mean_accr)\n",
    "\n",
    "x = [i[0] for i in neurons]\n",
    "plt.title('Neural Network with 3 Hidden Layer vs. Accuracy')\n",
    "plt.plot(x, accuracy_list_6)\n",
    "accuracy_list_6\n",
    "    "
   ]
  }
 ],
 "metadata": {
  "anaconda-cloud": {},
  "kernelspec": {
   "display_name": "Python 3",
   "language": "python",
   "name": "python3"
  },
  "language_info": {
   "codemirror_mode": {
    "name": "ipython",
    "version": 3
   },
   "file_extension": ".py",
   "mimetype": "text/x-python",
   "name": "python",
   "nbconvert_exporter": "python",
   "pygments_lexer": "ipython3",
   "version": "3.4.3"
  }
 },
 "nbformat": 4,
 "nbformat_minor": 2
}
